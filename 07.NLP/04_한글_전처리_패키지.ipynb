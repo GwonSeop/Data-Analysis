{
  "nbformat": 4,
  "nbformat_minor": 0,
  "metadata": {
    "colab": {
      "name": "04_한글_전처리_패키지.ipynb",
      "provenance": []
    },
    "kernelspec": {
      "name": "python3",
      "display_name": "Python 3"
    },
    "language_info": {
      "name": "python"
    }
  },
  "cells": [
    {
      "cell_type": "markdown",
      "metadata": {
        "id": "RgwaIKtk8HsJ"
      },
      "source": [
        "# 한글 전처리 패키지"
      ]
    },
    {
      "cell_type": "markdown",
      "metadata": {
        "id": "UY9KoDzV8Oha"
      },
      "source": [
        "## 1.PyKoSpacing"
      ]
    },
    {
      "cell_type": "code",
      "metadata": {
        "colab": {
          "base_uri": "https://localhost:8080/"
        },
        "id": "hfPMyfn8c7Nl",
        "outputId": "89f8b556-f86b-478d-9aa9-e990e572dd6d"
      },
      "source": [
        "!pip install git+https://github.com/haven-jeon/PyKoSpacing.git > /dev/null"
      ],
      "execution_count": 5,
      "outputs": [
        {
          "output_type": "stream",
          "text": [
            "  Running command git clone -q https://github.com/haven-jeon/PyKoSpacing.git /tmp/pip-req-build-kutak4k9\n"
          ],
          "name": "stdout"
        }
      ]
    },
    {
      "cell_type": "code",
      "metadata": {
        "id": "cKYm4WRpdDsu"
      },
      "source": [
        "# 런타임 다시시작"
      ],
      "execution_count": 1,
      "outputs": []
    },
    {
      "cell_type": "code",
      "metadata": {
        "id": "kxZdy68xdbUY"
      },
      "source": [
        "sent = '김철수는극중두인격의사나이이광수역을맡았다.철수는한국유일의태권도전승자를가리는결전의날을앞두고10년간함께훈련한사형인유연재(김광수분)를찾으러속세로내려온인물이다.'"
      ],
      "execution_count": 2,
      "outputs": []
    },
    {
      "cell_type": "code",
      "metadata": {
        "colab": {
          "base_uri": "https://localhost:8080/"
        },
        "id": "nTJUJ_64d0qV",
        "outputId": "25dfced0-5b53-4608-a789-f4963e9e6b0c"
      },
      "source": [
        "from pykospacing import Spacing\n",
        "spacing = Spacing()\n",
        "kospacing_sent = spacing(sent) \n",
        "\n",
        "print(kospacing_sent)"
      ],
      "execution_count": 3,
      "outputs": [
        {
          "output_type": "stream",
          "text": [
            "김철수는 극중 두 인격의 사나이 이광수 역을 맡았다. 철수는 한국 유일의 태권도 전승자를 가리는 결전의 날을 앞두고 10년간 함께 훈련한 사형인 유연재(김광수 분)를 찾으러 속세로 내려온 인물이다.\n"
          ],
          "name": "stdout"
        }
      ]
    },
    {
      "cell_type": "markdown",
      "metadata": {
        "id": "kyu-me1yeOOZ"
      },
      "source": [
        "## 2. Py-Hanspell"
      ]
    },
    {
      "cell_type": "code",
      "metadata": {
        "colab": {
          "base_uri": "https://localhost:8080/"
        },
        "id": "YZg1Vun-d3oR",
        "outputId": "983733ec-3c09-4445-ab6c-8c0f0d81c38a"
      },
      "source": [
        "!pip install git+https://github.com/ssut/py-hanspell.git"
      ],
      "execution_count": 4,
      "outputs": [
        {
          "output_type": "stream",
          "text": [
            "Collecting git+https://github.com/ssut/py-hanspell.git\n",
            "  Cloning https://github.com/ssut/py-hanspell.git to /tmp/pip-req-build-rfy9l4ro\n",
            "  Running command git clone -q https://github.com/ssut/py-hanspell.git /tmp/pip-req-build-rfy9l4ro\n",
            "Requirement already satisfied: requests in /usr/local/lib/python3.7/dist-packages (from py-hanspell==1.1) (2.23.0)\n",
            "Requirement already satisfied: urllib3!=1.25.0,!=1.25.1,<1.26,>=1.21.1 in /usr/local/lib/python3.7/dist-packages (from requests->py-hanspell==1.1) (1.24.3)\n",
            "Requirement already satisfied: idna<3,>=2.5 in /usr/local/lib/python3.7/dist-packages (from requests->py-hanspell==1.1) (2.10)\n",
            "Requirement already satisfied: certifi>=2017.4.17 in /usr/local/lib/python3.7/dist-packages (from requests->py-hanspell==1.1) (2021.5.30)\n",
            "Requirement already satisfied: chardet<4,>=3.0.2 in /usr/local/lib/python3.7/dist-packages (from requests->py-hanspell==1.1) (3.0.4)\n",
            "Building wheels for collected packages: py-hanspell\n",
            "  Building wheel for py-hanspell (setup.py) ... \u001b[?25l\u001b[?25hdone\n",
            "  Created wheel for py-hanspell: filename=py_hanspell-1.1-py3-none-any.whl size=4868 sha256=a26fbfda7cd88f379174c17bf6394e459221e51df6cc17a914ac1f282e6766e9\n",
            "  Stored in directory: /tmp/pip-ephem-wheel-cache-xfjdt0fd/wheels/ab/f5/7b/d4124bb329c905301baed80e2ae45aa14e824f62ebc3ec2cc4\n",
            "Successfully built py-hanspell\n",
            "Installing collected packages: py-hanspell\n",
            "Successfully installed py-hanspell-1.1\n"
          ],
          "name": "stdout"
        }
      ]
    },
    {
      "cell_type": "code",
      "metadata": {
        "colab": {
          "base_uri": "https://localhost:8080/"
        },
        "id": "k0p_gu6seWzd",
        "outputId": "66379863-d3e6-4af9-d724-d641f34285cb"
      },
      "source": [
        "from hanspell import spell_checker\n",
        "\n",
        "sent = \"맞춤법 틀리면 외 않되? 쓰고싶은대로쓰면돼지 \"\n",
        "spelled_sent = spell_checker.check(sent)\n",
        "\n",
        "hanspell_sent = spelled_sent.checked\n",
        "print(hanspell_sent)"
      ],
      "execution_count": 5,
      "outputs": [
        {
          "output_type": "stream",
          "text": [
            "맞춤법 틀리면 왜 안돼? 쓰고 싶은 대로 쓰면 되지\n"
          ],
          "name": "stdout"
        }
      ]
    },
    {
      "cell_type": "markdown",
      "metadata": {
        "id": "HqLz-rGmfTdW"
      },
      "source": [
        "## 3. SOYNLP를 이용한 단어 토큰화"
      ]
    },
    {
      "cell_type": "code",
      "metadata": {
        "colab": {
          "base_uri": "https://localhost:8080/"
        },
        "id": "Qni1zIX7egKU",
        "outputId": "b373e26c-b660-4ed7-eec5-7f2cc263139e"
      },
      "source": [
        "!pip install soynlp"
      ],
      "execution_count": 6,
      "outputs": [
        {
          "output_type": "stream",
          "text": [
            "Collecting soynlp\n",
            "  Downloading soynlp-0.0.493-py3-none-any.whl (416 kB)\n",
            "\u001b[?25l\r\u001b[K     |▉                               | 10 kB 22.7 MB/s eta 0:00:01\r\u001b[K     |█▋                              | 20 kB 29.0 MB/s eta 0:00:01\r\u001b[K     |██▍                             | 30 kB 33.8 MB/s eta 0:00:01\r\u001b[K     |███▏                            | 40 kB 34.0 MB/s eta 0:00:01\r\u001b[K     |████                            | 51 kB 25.5 MB/s eta 0:00:01\r\u001b[K     |████▊                           | 61 kB 27.1 MB/s eta 0:00:01\r\u001b[K     |█████▌                          | 71 kB 25.4 MB/s eta 0:00:01\r\u001b[K     |██████▎                         | 81 kB 27.0 MB/s eta 0:00:01\r\u001b[K     |███████                         | 92 kB 26.3 MB/s eta 0:00:01\r\u001b[K     |███████▉                        | 102 kB 27.8 MB/s eta 0:00:01\r\u001b[K     |████████▋                       | 112 kB 27.8 MB/s eta 0:00:01\r\u001b[K     |█████████▍                      | 122 kB 27.8 MB/s eta 0:00:01\r\u001b[K     |██████████▏                     | 133 kB 27.8 MB/s eta 0:00:01\r\u001b[K     |███████████                     | 143 kB 27.8 MB/s eta 0:00:01\r\u001b[K     |███████████▉                    | 153 kB 27.8 MB/s eta 0:00:01\r\u001b[K     |████████████▋                   | 163 kB 27.8 MB/s eta 0:00:01\r\u001b[K     |█████████████▍                  | 174 kB 27.8 MB/s eta 0:00:01\r\u001b[K     |██████████████▏                 | 184 kB 27.8 MB/s eta 0:00:01\r\u001b[K     |███████████████                 | 194 kB 27.8 MB/s eta 0:00:01\r\u001b[K     |███████████████▊                | 204 kB 27.8 MB/s eta 0:00:01\r\u001b[K     |████████████████▌               | 215 kB 27.8 MB/s eta 0:00:01\r\u001b[K     |█████████████████▎              | 225 kB 27.8 MB/s eta 0:00:01\r\u001b[K     |██████████████████              | 235 kB 27.8 MB/s eta 0:00:01\r\u001b[K     |██████████████████▉             | 245 kB 27.8 MB/s eta 0:00:01\r\u001b[K     |███████████████████▋            | 256 kB 27.8 MB/s eta 0:00:01\r\u001b[K     |████████████████████▍           | 266 kB 27.8 MB/s eta 0:00:01\r\u001b[K     |█████████████████████▎          | 276 kB 27.8 MB/s eta 0:00:01\r\u001b[K     |██████████████████████          | 286 kB 27.8 MB/s eta 0:00:01\r\u001b[K     |██████████████████████▉         | 296 kB 27.8 MB/s eta 0:00:01\r\u001b[K     |███████████████████████▋        | 307 kB 27.8 MB/s eta 0:00:01\r\u001b[K     |████████████████████████▍       | 317 kB 27.8 MB/s eta 0:00:01\r\u001b[K     |█████████████████████████▏      | 327 kB 27.8 MB/s eta 0:00:01\r\u001b[K     |██████████████████████████      | 337 kB 27.8 MB/s eta 0:00:01\r\u001b[K     |██████████████████████████▊     | 348 kB 27.8 MB/s eta 0:00:01\r\u001b[K     |███████████████████████████▌    | 358 kB 27.8 MB/s eta 0:00:01\r\u001b[K     |████████████████████████████▎   | 368 kB 27.8 MB/s eta 0:00:01\r\u001b[K     |█████████████████████████████   | 378 kB 27.8 MB/s eta 0:00:01\r\u001b[K     |█████████████████████████████▉  | 389 kB 27.8 MB/s eta 0:00:01\r\u001b[K     |██████████████████████████████▋ | 399 kB 27.8 MB/s eta 0:00:01\r\u001b[K     |███████████████████████████████▌| 409 kB 27.8 MB/s eta 0:00:01\r\u001b[K     |████████████████████████████████| 416 kB 27.8 MB/s \n",
            "\u001b[?25hRequirement already satisfied: scikit-learn>=0.20.0 in /usr/local/lib/python3.7/dist-packages (from soynlp) (0.22.2.post1)\n",
            "Requirement already satisfied: psutil>=5.0.1 in /usr/local/lib/python3.7/dist-packages (from soynlp) (5.4.8)\n",
            "Requirement already satisfied: numpy>=1.12.1 in /usr/local/lib/python3.7/dist-packages (from soynlp) (1.19.5)\n",
            "Requirement already satisfied: scipy>=1.1.0 in /usr/local/lib/python3.7/dist-packages (from soynlp) (1.4.1)\n",
            "Requirement already satisfied: joblib>=0.11 in /usr/local/lib/python3.7/dist-packages (from scikit-learn>=0.20.0->soynlp) (1.0.1)\n",
            "Installing collected packages: soynlp\n",
            "Successfully installed soynlp-0.0.493\n"
          ],
          "name": "stdout"
        }
      ]
    },
    {
      "cell_type": "code",
      "metadata": {
        "id": "nPzD6V5rfZkN"
      },
      "source": [
        "!pip install Konlpy > /dev/null"
      ],
      "execution_count": 9,
      "outputs": []
    },
    {
      "cell_type": "code",
      "metadata": {
        "colab": {
          "base_uri": "https://localhost:8080/"
        },
        "id": "1P3C67dKfhCF",
        "outputId": "a20feaa9-b1a3-4237-f28b-b2a9ebd6abea"
      },
      "source": [
        "from konlpy.tag import Okt\n",
        "tokenizer = Okt()\n",
        "print(tokenizer.morphs('에이비식스 이대휘 1월 최애돌 기부 요정'))"
      ],
      "execution_count": 10,
      "outputs": [
        {
          "output_type": "stream",
          "text": [
            "['에이', '비식스', '이대', '휘', '1월', '최애', '돌', '기부', '요정']\n"
          ],
          "name": "stdout"
        }
      ]
    },
    {
      "cell_type": "code",
      "metadata": {
        "id": "iAnKpKS4foq1"
      },
      "source": [
        "import urllib.request\n",
        "from soynlp import DoublespaceLineCorpus\n",
        "from soynlp.word import WordExtractor"
      ],
      "execution_count": 11,
      "outputs": []
    },
    {
      "cell_type": "code",
      "metadata": {
        "colab": {
          "base_uri": "https://localhost:8080/"
        },
        "id": "etrc_Aa7g83X",
        "outputId": "dd62d819-b79a-4ba0-992b-72e3df9c4a36"
      },
      "source": [
        "urllib.request.urlretrieve(\"https://raw.githubusercontent.com/lovit/soynlp/master/tutorials/2016-10-20.txt\", filename=\"2016-10-20.txt\")"
      ],
      "execution_count": 13,
      "outputs": [
        {
          "output_type": "execute_result",
          "data": {
            "text/plain": [
              "('2016-10-20.txt', <http.client.HTTPMessage at 0x7f59d9b7f0d0>)"
            ]
          },
          "metadata": {},
          "execution_count": 13
        }
      ]
    },
    {
      "cell_type": "code",
      "metadata": {
        "colab": {
          "base_uri": "https://localhost:8080/"
        },
        "id": "Kd0jkygsgBr1",
        "outputId": "ec4cee12-bc4c-45af-8f27-f737ceeab910"
      },
      "source": [
        "corpus = DoublespaceLineCorpus(\"2016-10-20.txt\")\n",
        "len(corpus)"
      ],
      "execution_count": 14,
      "outputs": [
        {
          "output_type": "execute_result",
          "data": {
            "text/plain": [
              "30091"
            ]
          },
          "metadata": {},
          "execution_count": 14
        }
      ]
    },
    {
      "cell_type": "code",
      "metadata": {
        "colab": {
          "base_uri": "https://localhost:8080/"
        },
        "id": "Mg0IpRvfgvjs",
        "outputId": "9408e85b-4e30-4dc9-a8b8-9c8978f2a49d"
      },
      "source": [
        "i = 0\n",
        "for document in corpus:\n",
        "  if len(document) > 0:\n",
        "    print(document)\n",
        "    i = i+1\n",
        "  if i == 3:\n",
        "    break"
      ],
      "execution_count": 15,
      "outputs": [
        {
          "output_type": "stream",
          "text": [
            "19  1990  52 1 22\n",
            "오패산터널 총격전 용의자 검거 서울 연합뉴스 경찰 관계자들이 19일 오후 서울 강북구 오패산 터널 인근에서 사제 총기를 발사해 경찰을 살해한 용의자 성모씨를 검거하고 있다 성씨는 검거 당시 서바이벌 게임에서 쓰는 방탄조끼에 헬멧까지 착용한 상태였다 독자제공 영상 캡처 연합뉴스  서울 연합뉴스 김은경 기자 사제 총기로 경찰을 살해한 범인 성모 46 씨는 주도면밀했다  경찰에 따르면 성씨는 19일 오후 강북경찰서 인근 부동산 업소 밖에서 부동산업자 이모 67 씨가 나오기를 기다렸다 이씨와는 평소에도 말다툼을 자주 한 것으로 알려졌다  이씨가 나와 걷기 시작하자 성씨는 따라가면서 미리 준비해온 사제 총기를 이씨에게 발사했다 총알이 빗나가면서 이씨는 도망갔다 그 빗나간 총알은 지나가던 행인 71 씨의 배를 스쳤다  성씨는 강북서 인근 치킨집까지 이씨 뒤를 쫓으며 실랑이하다 쓰러뜨린 후 총기와 함께 가져온 망치로 이씨 머리를 때렸다  이 과정에서 오후 6시 20분께 강북구 번동 길 위에서 사람들이 싸우고 있다 총소리가 났다 는 등의 신고가 여러건 들어왔다  5분 후에 성씨의 전자발찌가 훼손됐다는 신고가 보호관찰소 시스템을 통해 들어왔다 성범죄자로 전자발찌를 차고 있던 성씨는 부엌칼로 직접 자신의 발찌를 끊었다  용의자 소지 사제총기 2정 서울 연합뉴스 임헌정 기자 서울 시내에서 폭행 용의자가 현장 조사를 벌이던 경찰관에게 사제총기를 발사해 경찰관이 숨졌다 19일 오후 6시28분 강북구 번동에서 둔기로 맞았다 는 폭행 피해 신고가 접수돼 현장에서 조사하던 강북경찰서 번동파출소 소속 김모 54 경위가 폭행 용의자 성모 45 씨가 쏜 사제총기에 맞고 쓰러진 뒤 병원에 옮겨졌으나 숨졌다 사진은 용의자가 소지한 사제총기  신고를 받고 번동파출소에서 김창호 54 경위 등 경찰들이 오후 6시 29분께 현장으로 출동했다 성씨는 그사이 부동산 앞에 놓아뒀던 가방을 챙겨 오패산 쪽으로 도망간 후였다  김 경위는 오패산 터널 입구 오른쪽의 급경사에서 성씨에게 접근하다가 오후 6시 33분께 풀숲에 숨은 성씨가 허공에 난사한 10여발의 총알 중 일부를 왼쪽 어깨 뒷부분에 맞고 쓰러졌다  김 경위는 구급차가 도착했을 때 이미 의식이 없었고 심폐소생술을 하며 병원으로 옮겨졌으나 총알이 폐를 훼손해 오후 7시 40분께 사망했다  김 경위는 외근용 조끼를 입고 있었으나 총알을 막기에는 역부족이었다  머리에 부상을 입은 이씨도 함께 병원으로 이송됐으나 생명에는 지장이 없는 것으로 알려졌다  성씨는 오패산 터널 밑쪽 숲에서 오후 6시 45분께 잡혔다  총격현장 수색하는 경찰들 서울 연합뉴스 이효석 기자 19일 오후 서울 강북구 오패산 터널 인근에서 경찰들이 폭행 용의자가 사제총기를 발사해 경찰관이 사망한 사건을 조사 하고 있다  총 때문에 쫓던 경관들과 민간인들이 몸을 숨겼는데 인근 신발가게 직원 이모씨가 다가가 성씨를 덮쳤고 이어 현장에 있던 다른 상인들과 경찰이 가세해 체포했다  성씨는 경찰에 붙잡힌 직후 나 자살하려고 한 거다 맞아 죽어도 괜찮다 고 말한 것으로 전해졌다  성씨 자신도 경찰이 발사한 공포탄 1발 실탄 3발 중 실탄 1발을 배에 맞았으나 방탄조끼를 입은 상태여서 부상하지는 않았다  경찰은 인근을 수색해 성씨가 만든 사제총 16정과 칼 7개를 압수했다 실제 폭발할지는 알 수 없는 요구르트병에 무언가를 채워두고 심지를 꽂은 사제 폭탄도 발견됐다  일부는 숲에서 발견됐고 일부는 성씨가 소지한 가방 안에 있었다\n",
            "테헤란 연합뉴스 강훈상 특파원 이용 승객수 기준 세계 최대 공항인 아랍에미리트 두바이국제공항은 19일 현지시간 이 공항을 이륙하는 모든 항공기의 탑승객은 삼성전자의 갤럭시노트7을 휴대하면 안 된다고 밝혔다  두바이국제공항은 여러 항공 관련 기구의 권고에 따라 안전성에 우려가 있는 스마트폰 갤럭시노트7을 휴대하고 비행기를 타면 안 된다 며 탑승 전 검색 중 발견되면 압수할 계획 이라고 발표했다  공항 측은 갤럭시노트7의 배터리가 폭발 우려가 제기된 만큼 이 제품을 갖고 공항 안으로 들어오지 말라고 이용객에 당부했다  이런 조치는 두바이국제공항 뿐 아니라 신공항인 두바이월드센터에도 적용된다  배터리 폭발문제로 회수된 갤럭시노트7 연합뉴스자료사진\n"
          ],
          "name": "stdout"
        }
      ]
    },
    {
      "cell_type": "code",
      "metadata": {
        "colab": {
          "base_uri": "https://localhost:8080/"
        },
        "id": "m08UwU7ohYk9",
        "outputId": "f8b2a978-9bfb-4654-c607-f6fdbdf8ae87"
      },
      "source": [
        "word_extractor = WordExtractor()\n",
        "word_extractor.train(corpus)\n",
        "word_score_table = word_extractor.extract()"
      ],
      "execution_count": 16,
      "outputs": [
        {
          "output_type": "stream",
          "text": [
            "training was done. used memory 1.742 Gb\n",
            "all cohesion probabilities was computed. # words = 223348\n",
            "all branching entropies was computed # words = 361598\n",
            "all accessor variety was computed # words = 361598\n"
          ],
          "name": "stdout"
        }
      ]
    },
    {
      "cell_type": "code",
      "metadata": {
        "colab": {
          "base_uri": "https://localhost:8080/"
        },
        "id": "WjyDtd0YiI2X",
        "outputId": "2cae561f-ff3a-4f5d-c7dd-17b96f6121b4"
      },
      "source": [
        "word_score_table[\"반포한\"].cohesion_forward"
      ],
      "execution_count": 17,
      "outputs": [
        {
          "output_type": "execute_result",
          "data": {
            "text/plain": [
              "0.08838002913645132"
            ]
          },
          "metadata": {},
          "execution_count": 17
        }
      ]
    },
    {
      "cell_type": "code",
      "metadata": {
        "colab": {
          "base_uri": "https://localhost:8080/"
        },
        "id": "xAkyjObUibwX",
        "outputId": "b929eba8-eff5-4d02-c72e-6465c79e421c"
      },
      "source": [
        "word_score_table[\"반포한강\"].cohesion_forward"
      ],
      "execution_count": 18,
      "outputs": [
        {
          "output_type": "execute_result",
          "data": {
            "text/plain": [
              "0.19841268168224552"
            ]
          },
          "metadata": {},
          "execution_count": 18
        }
      ]
    },
    {
      "cell_type": "code",
      "metadata": {
        "colab": {
          "base_uri": "https://localhost:8080/"
        },
        "id": "NM7hBr20idLd",
        "outputId": "351af589-0483-4813-d1f4-fe894626b561"
      },
      "source": [
        "word_score_table[\"반포한강공원\"].cohesion_forward"
      ],
      "execution_count": 19,
      "outputs": [
        {
          "output_type": "execute_result",
          "data": {
            "text/plain": [
              "0.37891487632839754"
            ]
          },
          "metadata": {},
          "execution_count": 19
        }
      ]
    },
    {
      "cell_type": "code",
      "metadata": {
        "colab": {
          "base_uri": "https://localhost:8080/"
        },
        "id": "95zxdoKuifqH",
        "outputId": "1b78210c-1e3b-4c59-c7bc-9727c4e9ac9c"
      },
      "source": [
        "word_score_table[\"디스\"].right_branching_entropy"
      ],
      "execution_count": 20,
      "outputs": [
        {
          "output_type": "execute_result",
          "data": {
            "text/plain": [
              "1.6371694761537934"
            ]
          },
          "metadata": {},
          "execution_count": 20
        }
      ]
    },
    {
      "cell_type": "code",
      "metadata": {
        "colab": {
          "base_uri": "https://localhost:8080/"
        },
        "id": "z7PgmItGjdVF",
        "outputId": "f3510dd8-aad4-42e8-8a8c-52032c11b902"
      },
      "source": [
        "word_score_table[\"디스플레\"].right_branching_entropy"
      ],
      "execution_count": 21,
      "outputs": [
        {
          "output_type": "execute_result",
          "data": {
            "text/plain": [
              "-0.0"
            ]
          },
          "metadata": {},
          "execution_count": 21
        }
      ]
    },
    {
      "cell_type": "code",
      "metadata": {
        "colab": {
          "base_uri": "https://localhost:8080/"
        },
        "id": "GSlij6v_je-E",
        "outputId": "dd0d06fe-b2aa-4f68-95d6-6106fe8eb0db"
      },
      "source": [
        "word_score_table[\"디스플레이\"].right_branching_entropy"
      ],
      "execution_count": 22,
      "outputs": [
        {
          "output_type": "execute_result",
          "data": {
            "text/plain": [
              "3.1400392861792916"
            ]
          },
          "metadata": {},
          "execution_count": 22
        }
      ]
    },
    {
      "cell_type": "markdown",
      "metadata": {
        "id": "xa5utEs8jpqK"
      },
      "source": [
        "- SOYNLP의 L tokenizer"
      ]
    },
    {
      "cell_type": "code",
      "metadata": {
        "colab": {
          "base_uri": "https://localhost:8080/"
        },
        "id": "xj4Djvi4jiYc",
        "outputId": "4f7d655b-fcf1-4995-9240-58f4e8e61261"
      },
      "source": [
        "from soynlp.tokenizer import LTokenizer\n",
        "\n",
        "scores = {word:score.cohesion_forward for word, score in word_score_table.items()}\n",
        "l_tokenizer = LTokenizer(scores=scores)\n",
        "l_tokenizer.tokenize(\"국제사회와 우리의 노력들로 범죄를 척결하자\", flatten=False)"
      ],
      "execution_count": 23,
      "outputs": [
        {
          "output_type": "execute_result",
          "data": {
            "text/plain": [
              "[('국제사회', '와'), ('우리', '의'), ('노력', '들로'), ('범죄', '를'), ('척결', '하자')]"
            ]
          },
          "metadata": {},
          "execution_count": 23
        }
      ]
    },
    {
      "cell_type": "markdown",
      "metadata": {
        "id": "rgP8y8OFjxhe"
      },
      "source": [
        "- 최대 점수 토크나이저"
      ]
    },
    {
      "cell_type": "code",
      "metadata": {
        "colab": {
          "base_uri": "https://localhost:8080/"
        },
        "id": "NCWyC3fojwQt",
        "outputId": "19cd651c-b312-4f85-e3bb-15a7089f23df"
      },
      "source": [
        "from soynlp.tokenizer import MaxScoreTokenizer\n",
        "\n",
        "maxscore_tokenizer = MaxScoreTokenizer(scores=scores)\n",
        "maxscore_tokenizer.tokenize(\"국제사회와우리의노력들로범죄를척결하자\")"
      ],
      "execution_count": 24,
      "outputs": [
        {
          "output_type": "execute_result",
          "data": {
            "text/plain": [
              "['국제사회', '와', '우리', '의', '노력', '들로', '범죄', '를', '척결', '하자']"
            ]
          },
          "metadata": {},
          "execution_count": 24
        }
      ]
    },
    {
      "cell_type": "markdown",
      "metadata": {
        "id": "zFvDVRdtkhov"
      },
      "source": [
        "- SOYNLP를 이용한 반복처리"
      ]
    },
    {
      "cell_type": "code",
      "metadata": {
        "id": "ZjdUflGLj0-t"
      },
      "source": [
        "from soynlp.normalizer import *"
      ],
      "execution_count": 25,
      "outputs": []
    },
    {
      "cell_type": "code",
      "metadata": {
        "colab": {
          "base_uri": "https://localhost:8080/"
        },
        "id": "ibEMJba7klys",
        "outputId": "4058168e-613f-4951-dec5-796576fb3646"
      },
      "source": [
        "print(emoticon_normalize('앜ㅋㅋㅋㅋ이영화존잼쓰ㅠㅠㅠㅠㅠ', num_repeats=2))\n",
        "print(emoticon_normalize('앜ㅋㅋㅋㅋㅋㅋㅋㅋㅋ이영화존잼쓰ㅠㅠㅠㅠ', num_repeats=2))\n",
        "print(emoticon_normalize('앜ㅋㅋㅋㅋㅋㅋㅋㅋㅋㅋㅋㅋ이영화존잼쓰ㅠㅠㅠㅠㅠㅠ', num_repeats=2))\n",
        "print(emoticon_normalize('앜ㅋㅋㅋㅋㅋㅋㅋㅋㅋㅋㅋㅋㅋㅋㅋㅋㅋ이영화존잼쓰ㅠㅠㅠㅠㅠㅠㅠㅠ', num_repeats=2))"
      ],
      "execution_count": 26,
      "outputs": [
        {
          "output_type": "stream",
          "text": [
            "아ㅋㅋ영화존잼쓰ㅠㅠ\n",
            "아ㅋㅋ영화존잼쓰ㅠㅠ\n",
            "아ㅋㅋ영화존잼쓰ㅠㅠ\n",
            "아ㅋㅋ영화존잼쓰ㅠㅠ\n"
          ],
          "name": "stdout"
        }
      ]
    },
    {
      "cell_type": "code",
      "metadata": {
        "colab": {
          "base_uri": "https://localhost:8080/"
        },
        "id": "Twuj9HJNkmKs",
        "outputId": "07af8257-370e-4f4d-cf98-09b8126a65f0"
      },
      "source": [
        "print(repeat_normalize('와하하하하하하하하하핫', num_repeats=2))\n",
        "print(repeat_normalize('와하하하하하하핫', num_repeats=2))\n",
        "print(repeat_normalize('와하하하하핫', num_repeats=2))"
      ],
      "execution_count": 27,
      "outputs": [
        {
          "output_type": "stream",
          "text": [
            "와하하핫\n",
            "와하하핫\n",
            "와하하핫\n"
          ],
          "name": "stdout"
        }
      ]
    },
    {
      "cell_type": "markdown",
      "metadata": {
        "id": "gmsjOnZEktO-"
      },
      "source": [
        "## 4. Customized KoNLPy"
      ]
    },
    {
      "cell_type": "code",
      "metadata": {
        "colab": {
          "base_uri": "https://localhost:8080/"
        },
        "id": "j6NK29b_koMs",
        "outputId": "d4847594-569d-4475-b801-459250a80f19"
      },
      "source": [
        "pip install customized_konlpy"
      ],
      "execution_count": 28,
      "outputs": [
        {
          "output_type": "stream",
          "text": [
            "Collecting customized_konlpy\n",
            "  Downloading customized_konlpy-0.0.64-py3-none-any.whl (881 kB)\n",
            "\u001b[?25l\r\u001b[K     |▍                               | 10 kB 26.1 MB/s eta 0:00:01\r\u001b[K     |▊                               | 20 kB 26.7 MB/s eta 0:00:01\r\u001b[K     |█▏                              | 30 kB 29.3 MB/s eta 0:00:01\r\u001b[K     |█▌                              | 40 kB 31.3 MB/s eta 0:00:01\r\u001b[K     |█▉                              | 51 kB 33.2 MB/s eta 0:00:01\r\u001b[K     |██▎                             | 61 kB 34.5 MB/s eta 0:00:01\r\u001b[K     |██▋                             | 71 kB 35.8 MB/s eta 0:00:01\r\u001b[K     |███                             | 81 kB 37.1 MB/s eta 0:00:01\r\u001b[K     |███▍                            | 92 kB 38.6 MB/s eta 0:00:01\r\u001b[K     |███▊                            | 102 kB 31.7 MB/s eta 0:00:01\r\u001b[K     |████                            | 112 kB 31.7 MB/s eta 0:00:01\r\u001b[K     |████▌                           | 122 kB 31.7 MB/s eta 0:00:01\r\u001b[K     |████▉                           | 133 kB 31.7 MB/s eta 0:00:01\r\u001b[K     |█████▏                          | 143 kB 31.7 MB/s eta 0:00:01\r\u001b[K     |█████▋                          | 153 kB 31.7 MB/s eta 0:00:01\r\u001b[K     |██████                          | 163 kB 31.7 MB/s eta 0:00:01\r\u001b[K     |██████▎                         | 174 kB 31.7 MB/s eta 0:00:01\r\u001b[K     |██████▊                         | 184 kB 31.7 MB/s eta 0:00:01\r\u001b[K     |███████                         | 194 kB 31.7 MB/s eta 0:00:01\r\u001b[K     |███████▍                        | 204 kB 31.7 MB/s eta 0:00:01\r\u001b[K     |███████▉                        | 215 kB 31.7 MB/s eta 0:00:01\r\u001b[K     |████████▏                       | 225 kB 31.7 MB/s eta 0:00:01\r\u001b[K     |████████▌                       | 235 kB 31.7 MB/s eta 0:00:01\r\u001b[K     |█████████                       | 245 kB 31.7 MB/s eta 0:00:01\r\u001b[K     |█████████▎                      | 256 kB 31.7 MB/s eta 0:00:01\r\u001b[K     |█████████▋                      | 266 kB 31.7 MB/s eta 0:00:01\r\u001b[K     |██████████                      | 276 kB 31.7 MB/s eta 0:00:01\r\u001b[K     |██████████▍                     | 286 kB 31.7 MB/s eta 0:00:01\r\u001b[K     |██████████▉                     | 296 kB 31.7 MB/s eta 0:00:01\r\u001b[K     |███████████▏                    | 307 kB 31.7 MB/s eta 0:00:01\r\u001b[K     |███████████▌                    | 317 kB 31.7 MB/s eta 0:00:01\r\u001b[K     |████████████                    | 327 kB 31.7 MB/s eta 0:00:01\r\u001b[K     |████████████▎                   | 337 kB 31.7 MB/s eta 0:00:01\r\u001b[K     |████████████▋                   | 348 kB 31.7 MB/s eta 0:00:01\r\u001b[K     |█████████████                   | 358 kB 31.7 MB/s eta 0:00:01\r\u001b[K     |█████████████▍                  | 368 kB 31.7 MB/s eta 0:00:01\r\u001b[K     |█████████████▊                  | 378 kB 31.7 MB/s eta 0:00:01\r\u001b[K     |██████████████▏                 | 389 kB 31.7 MB/s eta 0:00:01\r\u001b[K     |██████████████▌                 | 399 kB 31.7 MB/s eta 0:00:01\r\u001b[K     |██████████████▉                 | 409 kB 31.7 MB/s eta 0:00:01\r\u001b[K     |███████████████▎                | 419 kB 31.7 MB/s eta 0:00:01\r\u001b[K     |███████████████▋                | 430 kB 31.7 MB/s eta 0:00:01\r\u001b[K     |████████████████                | 440 kB 31.7 MB/s eta 0:00:01\r\u001b[K     |████████████████▍               | 450 kB 31.7 MB/s eta 0:00:01\r\u001b[K     |████████████████▊               | 460 kB 31.7 MB/s eta 0:00:01\r\u001b[K     |█████████████████               | 471 kB 31.7 MB/s eta 0:00:01\r\u001b[K     |█████████████████▌              | 481 kB 31.7 MB/s eta 0:00:01\r\u001b[K     |█████████████████▉              | 491 kB 31.7 MB/s eta 0:00:01\r\u001b[K     |██████████████████▏             | 501 kB 31.7 MB/s eta 0:00:01\r\u001b[K     |██████████████████▋             | 512 kB 31.7 MB/s eta 0:00:01\r\u001b[K     |███████████████████             | 522 kB 31.7 MB/s eta 0:00:01\r\u001b[K     |███████████████████▎            | 532 kB 31.7 MB/s eta 0:00:01\r\u001b[K     |███████████████████▊            | 542 kB 31.7 MB/s eta 0:00:01\r\u001b[K     |████████████████████            | 552 kB 31.7 MB/s eta 0:00:01\r\u001b[K     |████████████████████▌           | 563 kB 31.7 MB/s eta 0:00:01\r\u001b[K     |████████████████████▉           | 573 kB 31.7 MB/s eta 0:00:01\r\u001b[K     |█████████████████████▏          | 583 kB 31.7 MB/s eta 0:00:01\r\u001b[K     |█████████████████████▋          | 593 kB 31.7 MB/s eta 0:00:01\r\u001b[K     |██████████████████████          | 604 kB 31.7 MB/s eta 0:00:01\r\u001b[K     |██████████████████████▎         | 614 kB 31.7 MB/s eta 0:00:01\r\u001b[K     |██████████████████████▊         | 624 kB 31.7 MB/s eta 0:00:01\r\u001b[K     |███████████████████████         | 634 kB 31.7 MB/s eta 0:00:01\r\u001b[K     |███████████████████████▍        | 645 kB 31.7 MB/s eta 0:00:01\r\u001b[K     |███████████████████████▉        | 655 kB 31.7 MB/s eta 0:00:01\r\u001b[K     |████████████████████████▏       | 665 kB 31.7 MB/s eta 0:00:01\r\u001b[K     |████████████████████████▌       | 675 kB 31.7 MB/s eta 0:00:01\r\u001b[K     |█████████████████████████       | 686 kB 31.7 MB/s eta 0:00:01\r\u001b[K     |█████████████████████████▎      | 696 kB 31.7 MB/s eta 0:00:01\r\u001b[K     |█████████████████████████▋      | 706 kB 31.7 MB/s eta 0:00:01\r\u001b[K     |██████████████████████████      | 716 kB 31.7 MB/s eta 0:00:01\r\u001b[K     |██████████████████████████▍     | 727 kB 31.7 MB/s eta 0:00:01\r\u001b[K     |██████████████████████████▊     | 737 kB 31.7 MB/s eta 0:00:01\r\u001b[K     |███████████████████████████▏    | 747 kB 31.7 MB/s eta 0:00:01\r\u001b[K     |███████████████████████████▌    | 757 kB 31.7 MB/s eta 0:00:01\r\u001b[K     |███████████████████████████▉    | 768 kB 31.7 MB/s eta 0:00:01\r\u001b[K     |████████████████████████████▎   | 778 kB 31.7 MB/s eta 0:00:01\r\u001b[K     |████████████████████████████▋   | 788 kB 31.7 MB/s eta 0:00:01\r\u001b[K     |█████████████████████████████   | 798 kB 31.7 MB/s eta 0:00:01\r\u001b[K     |█████████████████████████████▍  | 808 kB 31.7 MB/s eta 0:00:01\r\u001b[K     |█████████████████████████████▊  | 819 kB 31.7 MB/s eta 0:00:01\r\u001b[K     |██████████████████████████████▏ | 829 kB 31.7 MB/s eta 0:00:01\r\u001b[K     |██████████████████████████████▌ | 839 kB 31.7 MB/s eta 0:00:01\r\u001b[K     |██████████████████████████████▉ | 849 kB 31.7 MB/s eta 0:00:01\r\u001b[K     |███████████████████████████████▎| 860 kB 31.7 MB/s eta 0:00:01\r\u001b[K     |███████████████████████████████▋| 870 kB 31.7 MB/s eta 0:00:01\r\u001b[K     |████████████████████████████████| 880 kB 31.7 MB/s eta 0:00:01\r\u001b[K     |████████████████████████████████| 881 kB 31.7 MB/s \n",
            "\u001b[?25hRequirement already satisfied: konlpy>=0.4.4 in /usr/local/lib/python3.7/dist-packages (from customized_konlpy) (0.5.2)\n",
            "Requirement already satisfied: Jpype1>=0.6.1 in /usr/local/lib/python3.7/dist-packages (from customized_konlpy) (1.3.0)\n",
            "Requirement already satisfied: typing-extensions in /usr/local/lib/python3.7/dist-packages (from Jpype1>=0.6.1->customized_konlpy) (3.7.4.3)\n",
            "Requirement already satisfied: colorama in /usr/local/lib/python3.7/dist-packages (from konlpy>=0.4.4->customized_konlpy) (0.4.4)\n",
            "Requirement already satisfied: beautifulsoup4==4.6.0 in /usr/local/lib/python3.7/dist-packages (from konlpy>=0.4.4->customized_konlpy) (4.6.0)\n",
            "Requirement already satisfied: lxml>=4.1.0 in /usr/local/lib/python3.7/dist-packages (from konlpy>=0.4.4->customized_konlpy) (4.2.6)\n",
            "Requirement already satisfied: tweepy>=3.7.0 in /usr/local/lib/python3.7/dist-packages (from konlpy>=0.4.4->customized_konlpy) (3.10.0)\n",
            "Requirement already satisfied: numpy>=1.6 in /usr/local/lib/python3.7/dist-packages (from konlpy>=0.4.4->customized_konlpy) (1.19.5)\n",
            "Requirement already satisfied: six>=1.10.0 in /usr/local/lib/python3.7/dist-packages (from tweepy>=3.7.0->konlpy>=0.4.4->customized_konlpy) (1.15.0)\n",
            "Requirement already satisfied: requests[socks]>=2.11.1 in /usr/local/lib/python3.7/dist-packages (from tweepy>=3.7.0->konlpy>=0.4.4->customized_konlpy) (2.23.0)\n",
            "Requirement already satisfied: requests-oauthlib>=0.7.0 in /usr/local/lib/python3.7/dist-packages (from tweepy>=3.7.0->konlpy>=0.4.4->customized_konlpy) (1.3.0)\n",
            "Requirement already satisfied: oauthlib>=3.0.0 in /usr/local/lib/python3.7/dist-packages (from requests-oauthlib>=0.7.0->tweepy>=3.7.0->konlpy>=0.4.4->customized_konlpy) (3.1.1)\n",
            "Requirement already satisfied: idna<3,>=2.5 in /usr/local/lib/python3.7/dist-packages (from requests[socks]>=2.11.1->tweepy>=3.7.0->konlpy>=0.4.4->customized_konlpy) (2.10)\n",
            "Requirement already satisfied: certifi>=2017.4.17 in /usr/local/lib/python3.7/dist-packages (from requests[socks]>=2.11.1->tweepy>=3.7.0->konlpy>=0.4.4->customized_konlpy) (2021.5.30)\n",
            "Requirement already satisfied: chardet<4,>=3.0.2 in /usr/local/lib/python3.7/dist-packages (from requests[socks]>=2.11.1->tweepy>=3.7.0->konlpy>=0.4.4->customized_konlpy) (3.0.4)\n",
            "Requirement already satisfied: urllib3!=1.25.0,!=1.25.1,<1.26,>=1.21.1 in /usr/local/lib/python3.7/dist-packages (from requests[socks]>=2.11.1->tweepy>=3.7.0->konlpy>=0.4.4->customized_konlpy) (1.24.3)\n",
            "Requirement already satisfied: PySocks!=1.5.7,>=1.5.6 in /usr/local/lib/python3.7/dist-packages (from requests[socks]>=2.11.1->tweepy>=3.7.0->konlpy>=0.4.4->customized_konlpy) (1.7.1)\n",
            "Installing collected packages: customized-konlpy\n",
            "Successfully installed customized-konlpy-0.0.64\n"
          ],
          "name": "stdout"
        }
      ]
    },
    {
      "cell_type": "code",
      "metadata": {
        "colab": {
          "base_uri": "https://localhost:8080/"
        },
        "id": "Z21pDAo1kzmc",
        "outputId": "4123e6fc-9309-4e7e-a5c6-417d910afaf8"
      },
      "source": [
        "from ckonlpy.tag import Twitter\n",
        "twitter = Twitter()\n",
        "twitter.morphs('은경이는 사무실로 갔습니다.')"
      ],
      "execution_count": 29,
      "outputs": [
        {
          "output_type": "stream",
          "text": [
            "/usr/local/lib/python3.7/dist-packages/konlpy/tag/_okt.py:16: UserWarning: \"Twitter\" has changed to \"Okt\" since KoNLPy v0.4.5.\n",
            "  warn('\"Twitter\" has changed to \"Okt\" since KoNLPy v0.4.5.')\n"
          ],
          "name": "stderr"
        },
        {
          "output_type": "execute_result",
          "data": {
            "text/plain": [
              "['은', '경이', '는', '사무실', '로', '갔습니다', '.']"
            ]
          },
          "metadata": {},
          "execution_count": 29
        }
      ]
    },
    {
      "cell_type": "code",
      "metadata": {
        "id": "dCqlzZszk2R2"
      },
      "source": [
        "twitter.add_dictionary('은경이', 'Noun')"
      ],
      "execution_count": 30,
      "outputs": []
    },
    {
      "cell_type": "code",
      "metadata": {
        "colab": {
          "base_uri": "https://localhost:8080/"
        },
        "id": "UkBNW57Qk4dg",
        "outputId": "912a48ec-d794-43ea-9040-b3f3b3f0ce61"
      },
      "source": [
        "twitter.morphs('은경이는 사무실로 갔습니다.')"
      ],
      "execution_count": 31,
      "outputs": [
        {
          "output_type": "execute_result",
          "data": {
            "text/plain": [
              "['은경이', '는', '사무실', '로', '갔습니다', '.']"
            ]
          },
          "metadata": {},
          "execution_count": 31
        }
      ]
    },
    {
      "cell_type": "code",
      "metadata": {
        "id": "12NLU4Ulk5oV"
      },
      "source": [
        ""
      ],
      "execution_count": null,
      "outputs": []
    }
  ]
}