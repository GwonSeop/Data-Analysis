{
  "nbformat": 4,
  "nbformat_minor": 0,
  "metadata": {
    "colab": {
      "name": "01_Series.ipynb",
      "provenance": [],
      "collapsed_sections": []
    },
    "kernelspec": {
      "name": "python3",
      "display_name": "Python 3"
    },
    "language_info": {
      "name": "python"
    }
  },
  "cells": [
    {
      "cell_type": "markdown",
      "metadata": {
        "id": "TgKi7KXwrJGT"
      },
      "source": [
        "#Pandas - Series"
      ]
    },
    {
      "cell_type": "code",
      "metadata": {
        "id": "1ZzMNRlUni2Q"
      },
      "source": [
        "import numpy as np\n",
        "import pandas as pd"
      ],
      "execution_count": 3,
      "outputs": []
    },
    {
      "cell_type": "markdown",
      "metadata": {
        "id": "LnJGRy9HrXeQ"
      },
      "source": [
        "## 시리즈 생성"
      ]
    },
    {
      "cell_type": "code",
      "metadata": {
        "colab": {
          "base_uri": "https://localhost:8080/"
        },
        "id": "TWxN2XQcrPKO",
        "outputId": "48353070-4df8-4ae6-9c82-cb08e8da79da"
      },
      "source": [
        "s = pd.Series([9904312,3448737,2890451,2466052]) # list tuple 딕셔너리 np.array 다 가능하지만 numpay 형태로 받음\n",
        "s"
      ],
      "execution_count": 15,
      "outputs": [
        {
          "output_type": "execute_result",
          "data": {
            "text/plain": [
              "0    9904312\n",
              "1    3448737\n",
              "2    2890451\n",
              "3    2466052\n",
              "dtype: int64"
            ]
          },
          "metadata": {
            "tags": []
          },
          "execution_count": 15
        }
      ]
    },
    {
      "cell_type": "code",
      "metadata": {
        "colab": {
          "base_uri": "https://localhost:8080/"
        },
        "id": "cMNZ7lfqwfsn",
        "outputId": "cbf27091-63d8-414e-9324-b98322fc6418"
      },
      "source": [
        "s = pd.Series([9904312,3448737,2890451,2466052],\n",
        "              index=['서울','부산','인천','대구'],dtype=np.int32)\n",
        "s"
      ],
      "execution_count": 20,
      "outputs": [
        {
          "output_type": "execute_result",
          "data": {
            "text/plain": [
              "서울    9904312\n",
              "부산    3448737\n",
              "인천    2890451\n",
              "대구    2466052\n",
              "dtype: int32"
            ]
          },
          "metadata": {
            "tags": []
          },
          "execution_count": 20
        }
      ]
    },
    {
      "cell_type": "code",
      "metadata": {
        "colab": {
          "base_uri": "https://localhost:8080/"
        },
        "id": "kY6mOfizxEgR",
        "outputId": "2ea9968f-ecf0-4c12-8fd6-c79709a1c35a"
      },
      "source": [
        "# 시리즈의 값 - 넘파이 배열\n",
        "s.values"
      ],
      "execution_count": 11,
      "outputs": [
        {
          "output_type": "execute_result",
          "data": {
            "text/plain": [
              "array([9904312,  348737, 2890451, 2466052], dtype=int32)"
            ]
          },
          "metadata": {
            "tags": []
          },
          "execution_count": 11
        }
      ]
    },
    {
      "cell_type": "code",
      "metadata": {
        "colab": {
          "base_uri": "https://localhost:8080/"
        },
        "id": "t0XHYBUSxd-H",
        "outputId": "1d9d8d59-d125-405c-de15-ca012778cd26"
      },
      "source": [
        "# 시리즈의 인덱스\n",
        "s.index"
      ],
      "execution_count": 12,
      "outputs": [
        {
          "output_type": "execute_result",
          "data": {
            "text/plain": [
              "Index(['서울', '부산', '인천', '대구'], dtype='object')"
            ]
          },
          "metadata": {
            "tags": []
          },
          "execution_count": 12
        }
      ]
    },
    {
      "cell_type": "code",
      "metadata": {
        "colab": {
          "base_uri": "https://localhost:8080/"
        },
        "id": "mxbUeZd_xiJD",
        "outputId": "fc276629-1c2e-4bf8-b395-7cb2d350cb57"
      },
      "source": [
        "s.name = '인구'\n",
        "s.index.name = '도시'\n",
        "s"
      ],
      "execution_count": 22,
      "outputs": [
        {
          "output_type": "execute_result",
          "data": {
            "text/plain": [
              "도시\n",
              "서울    9904312\n",
              "부산    3448737\n",
              "인천    2890451\n",
              "대구    2466052\n",
              "Name: 인구, dtype: int32"
            ]
          },
          "metadata": {
            "tags": []
          },
          "execution_count": 22
        }
      ]
    },
    {
      "cell_type": "markdown",
      "metadata": {
        "id": "_qXAZxEDyHYA"
      },
      "source": [
        "##시리즈의 연산"
      ]
    },
    {
      "cell_type": "code",
      "metadata": {
        "colab": {
          "base_uri": "https://localhost:8080/"
        },
        "id": "OWd2noHax1LU",
        "outputId": "531a982a-a862-4900-e471-f269a68cd472"
      },
      "source": [
        "s / 1000000       # numpy이기 때문에 가능"
      ],
      "execution_count": 23,
      "outputs": [
        {
          "output_type": "execute_result",
          "data": {
            "text/plain": [
              "도시\n",
              "서울    9.904312\n",
              "부산    3.448737\n",
              "인천    2.890451\n",
              "대구    2.466052\n",
              "Name: 인구, dtype: float64"
            ]
          },
          "metadata": {
            "tags": []
          },
          "execution_count": 23
        }
      ]
    },
    {
      "cell_type": "markdown",
      "metadata": {
        "id": "85Ls_yzmyZxF"
      },
      "source": [
        "##시리즈 인덱싱"
      ]
    },
    {
      "cell_type": "code",
      "metadata": {
        "colab": {
          "base_uri": "https://localhost:8080/"
        },
        "id": "-fKR-f-syTns",
        "outputId": "d71792ed-cde5-4c2a-a550-7bd220f601be"
      },
      "source": [
        "s[1], s['부산'], s.부산      # 명령어와 충돌 주의"
      ],
      "execution_count": 39,
      "outputs": [
        {
          "output_type": "execute_result",
          "data": {
            "text/plain": [
              "(3448737, 3448737, 3448737)"
            ]
          },
          "metadata": {
            "tags": []
          },
          "execution_count": 39
        }
      ]
    },
    {
      "cell_type": "code",
      "metadata": {
        "colab": {
          "base_uri": "https://localhost:8080/"
        },
        "id": "sIE4zf7zy_o_",
        "outputId": "0506b4d3-aa7b-4aed-d326-d8550b2c627a"
      },
      "source": [
        "# fancy indexing\n",
        "s[[0,3,1]], s[['서울','대구','부산']]"
      ],
      "execution_count": 26,
      "outputs": [
        {
          "output_type": "execute_result",
          "data": {
            "text/plain": [
              "(도시\n",
              " 서울    9904312\n",
              " 대구    2466052\n",
              " 부산    3448737\n",
              " Name: 인구, dtype: int32, 도시\n",
              " 서울    9904312\n",
              " 대구    2466052\n",
              " 부산    3448737\n",
              " Name: 인구, dtype: int32)"
            ]
          },
          "metadata": {
            "tags": []
          },
          "execution_count": 26
        }
      ]
    },
    {
      "cell_type": "code",
      "metadata": {
        "colab": {
          "base_uri": "https://localhost:8080/"
        },
        "id": "z6MBmJwPzVWb",
        "outputId": "3ddd4ad8-05b6-42ce-9dae-d94430ac53d1"
      },
      "source": [
        "# slicing\n",
        "s[1:3]"
      ],
      "execution_count": 27,
      "outputs": [
        {
          "output_type": "execute_result",
          "data": {
            "text/plain": [
              "도시\n",
              "부산    3448737\n",
              "인천    2890451\n",
              "Name: 인구, dtype: int32"
            ]
          },
          "metadata": {
            "tags": []
          },
          "execution_count": 27
        }
      ]
    },
    {
      "cell_type": "code",
      "metadata": {
        "colab": {
          "base_uri": "https://localhost:8080/"
        },
        "id": "wCifapwbzrO6",
        "outputId": "90cc3e41-2190-41a5-b6a5-a644592d8eba"
      },
      "source": [
        "s['부산':'대구']     # 문자 인덱스로 슬라이싱하면 뒤에 값도 포함"
      ],
      "execution_count": 28,
      "outputs": [
        {
          "output_type": "execute_result",
          "data": {
            "text/plain": [
              "도시\n",
              "부산    3448737\n",
              "인천    2890451\n",
              "대구    2466052\n",
              "Name: 인구, dtype: int32"
            ]
          },
          "metadata": {
            "tags": []
          },
          "execution_count": 28
        }
      ]
    },
    {
      "cell_type": "code",
      "metadata": {
        "colab": {
          "base_uri": "https://localhost:8080/"
        },
        "id": "BgYlc1yZz53T",
        "outputId": "b2f542c9-98eb-4db5-e814-21f5a50f2921"
      },
      "source": [
        "# filtering \n",
        "s[(2500000 < s) & (s < 3000000)]     # 2500000 < s < 3000000 사용 불가 / & 는 rogical and"
      ],
      "execution_count": 32,
      "outputs": [
        {
          "output_type": "execute_result",
          "data": {
            "text/plain": [
              "도시\n",
              "인천    2890451\n",
              "Name: 인구, dtype: int32"
            ]
          },
          "metadata": {
            "tags": []
          },
          "execution_count": 32
        }
      ]
    },
    {
      "cell_type": "code",
      "metadata": {
        "colab": {
          "base_uri": "https://localhost:8080/"
        },
        "id": "Yl6DH4T20hKS",
        "outputId": "b406a9b6-cd66-4f10-ae58-40db7f91d6bd"
      },
      "source": [
        "s[(s<2500000) | (s>4e6)]      # | rogical or"
      ],
      "execution_count": 34,
      "outputs": [
        {
          "output_type": "execute_result",
          "data": {
            "text/plain": [
              "도시\n",
              "서울    9904312\n",
              "대구    2466052\n",
              "Name: 인구, dtype: int32"
            ]
          },
          "metadata": {
            "tags": []
          },
          "execution_count": 34
        }
      ]
    },
    {
      "cell_type": "code",
      "metadata": {
        "colab": {
          "base_uri": "https://localhost:8080/"
        },
        "id": "0FjUGZ-71U_C",
        "outputId": "b89255fb-2428-444f-d3f8-711dd74257f0"
      },
      "source": [
        "s.부산"
      ],
      "execution_count": 38,
      "outputs": [
        {
          "output_type": "execute_result",
          "data": {
            "text/plain": [
              "3448737"
            ]
          },
          "metadata": {
            "tags": []
          },
          "execution_count": 38
        }
      ]
    },
    {
      "cell_type": "markdown",
      "metadata": {
        "id": "621LR7b42Ux1"
      },
      "source": [
        "## 시리즈와 딕셔너리"
      ]
    },
    {
      "cell_type": "code",
      "metadata": {
        "colab": {
          "base_uri": "https://localhost:8080/"
        },
        "id": "0_jb3qmk25R1",
        "outputId": "0dac7046-4a36-44d2-af4b-891bda3be85b"
      },
      "source": [
        "'서울' in s, '대전' in s"
      ],
      "execution_count": 44,
      "outputs": [
        {
          "output_type": "execute_result",
          "data": {
            "text/plain": [
              "(True, False)"
            ]
          },
          "metadata": {
            "tags": []
          },
          "execution_count": 44
        }
      ]
    },
    {
      "cell_type": "code",
      "metadata": {
        "colab": {
          "base_uri": "https://localhost:8080/"
        },
        "id": "6laOxDJV1r5q",
        "outputId": "98e25543-dd25-4da7-d24b-2248304ec3c4"
      },
      "source": [
        "s2 = pd.Series({\"서울\":9631482, \"부산\": 3393191, \"인천\":2632035, \"대전\":1490158})\n",
        "s2"
      ],
      "execution_count": 41,
      "outputs": [
        {
          "output_type": "execute_result",
          "data": {
            "text/plain": [
              "서울    9631482\n",
              "부산    3393191\n",
              "인천    2632035\n",
              "대전    1490158\n",
              "dtype: int64"
            ]
          },
          "metadata": {
            "tags": []
          },
          "execution_count": 41
        }
      ]
    },
    {
      "cell_type": "markdown",
      "metadata": {
        "id": "3-2jQxl43boJ"
      },
      "source": [
        "##인덱스 기반 연산"
      ]
    },
    {
      "cell_type": "code",
      "metadata": {
        "colab": {
          "base_uri": "https://localhost:8080/"
        },
        "id": "UxYN3JeV2wej",
        "outputId": "be5fc32f-3a34-470c-d7ff-555f219d856d"
      },
      "source": [
        "s - s2"
      ],
      "execution_count": 47,
      "outputs": [
        {
          "output_type": "execute_result",
          "data": {
            "text/plain": [
              "대구         NaN\n",
              "대전         NaN\n",
              "부산     55546.0\n",
              "서울    272830.0\n",
              "인천    258416.0\n",
              "dtype: float64"
            ]
          },
          "metadata": {
            "tags": []
          },
          "execution_count": 47
        }
      ]
    },
    {
      "cell_type": "code",
      "metadata": {
        "colab": {
          "base_uri": "https://localhost:8080/"
        },
        "id": "gyHb1e6U3jlR",
        "outputId": "fba4ca87-f913-40ad-b181-a9992368c998"
      },
      "source": [
        "s.values - s2.values"
      ],
      "execution_count": 48,
      "outputs": [
        {
          "output_type": "execute_result",
          "data": {
            "text/plain": [
              "array([272830,  55546, 258416, 975894])"
            ]
          },
          "metadata": {
            "tags": []
          },
          "execution_count": 48
        }
      ]
    },
    {
      "cell_type": "code",
      "metadata": {
        "colab": {
          "base_uri": "https://localhost:8080/"
        },
        "id": "GHO4o4DY3wpx",
        "outputId": "7630a008-0185-4b57-f44c-b91a9abdfb5e"
      },
      "source": [
        "rs = (s-s2)/s2 * 100\n",
        "rs"
      ],
      "execution_count": 50,
      "outputs": [
        {
          "output_type": "execute_result",
          "data": {
            "text/plain": [
              "대구         NaN\n",
              "대전         NaN\n",
              "부산    1.636984\n",
              "서울    2.832690\n",
              "인천    9.818107\n",
              "dtype: float64"
            ]
          },
          "metadata": {
            "tags": []
          },
          "execution_count": 50
        }
      ]
    },
    {
      "cell_type": "code",
      "metadata": {
        "colab": {
          "base_uri": "https://localhost:8080/"
        },
        "id": "XqSn0nIg4EEJ",
        "outputId": "112a3a0c-6495-4299-ef0d-4dbc128fadf7"
      },
      "source": [
        "rs.notnull()"
      ],
      "execution_count": 51,
      "outputs": [
        {
          "output_type": "execute_result",
          "data": {
            "text/plain": [
              "대구    False\n",
              "대전    False\n",
              "부산     True\n",
              "서울     True\n",
              "인천     True\n",
              "dtype: bool"
            ]
          },
          "metadata": {
            "tags": []
          },
          "execution_count": 51
        }
      ]
    },
    {
      "cell_type": "code",
      "metadata": {
        "id": "g6tAld804IAV"
      },
      "source": [
        "rs = rs[rs.notnull()]"
      ],
      "execution_count": 55,
      "outputs": []
    },
    {
      "cell_type": "markdown",
      "metadata": {
        "id": "84SzweRe4T85"
      },
      "source": [
        "##데이터의 갱신,추가, 삭제"
      ]
    },
    {
      "cell_type": "code",
      "metadata": {
        "colab": {
          "base_uri": "https://localhost:8080/"
        },
        "id": "4XRWD76R4L2C",
        "outputId": "99be7c1e-50ad-45bf-8170-d1e409beab9c"
      },
      "source": [
        "# update\n",
        "rs[\"부산\"] = 1.63\n",
        "rs"
      ],
      "execution_count": 56,
      "outputs": [
        {
          "output_type": "execute_result",
          "data": {
            "text/plain": [
              "부산    1.630000\n",
              "서울    2.832690\n",
              "인천    9.818107\n",
              "dtype: float64"
            ]
          },
          "metadata": {
            "tags": []
          },
          "execution_count": 56
        }
      ]
    },
    {
      "cell_type": "code",
      "metadata": {
        "colab": {
          "base_uri": "https://localhost:8080/"
        },
        "id": "NRVHPBTs4gOi",
        "outputId": "4c33747d-ddd9-4cec-ae0b-41f947bd86b4"
      },
      "source": [
        "# 추가 \n",
        "rs['대구'] = 1.41\n",
        "rs"
      ],
      "execution_count": 58,
      "outputs": [
        {
          "output_type": "execute_result",
          "data": {
            "text/plain": [
              "부산    1.630000\n",
              "서울    2.832690\n",
              "인천    9.818107\n",
              "대구    1.410000\n",
              "dtype: float64"
            ]
          },
          "metadata": {
            "tags": []
          },
          "execution_count": 58
        }
      ]
    },
    {
      "cell_type": "code",
      "metadata": {
        "colab": {
          "base_uri": "https://localhost:8080/"
        },
        "id": "ORHl_l-F4tfh",
        "outputId": "b9dc0ef8-9129-4b57-c930-0c4b0a89f8df"
      },
      "source": [
        "# 삭제\n",
        "del rs['부산']\n",
        "rs"
      ],
      "execution_count": 59,
      "outputs": [
        {
          "output_type": "execute_result",
          "data": {
            "text/plain": [
              "서울    2.832690\n",
              "인천    9.818107\n",
              "대구    1.410000\n",
              "dtype: float64"
            ]
          },
          "metadata": {
            "tags": []
          },
          "execution_count": 59
        }
      ]
    },
    {
      "cell_type": "code",
      "metadata": {
        "id": "EnjoewLg49BB"
      },
      "source": [
        ""
      ],
      "execution_count": null,
      "outputs": []
    }
  ]
}