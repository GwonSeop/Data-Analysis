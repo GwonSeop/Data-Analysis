{
  "nbformat": 4,
  "nbformat_minor": 0,
  "metadata": {
    "colab": {
      "name": "09_시계열.ipynb",
      "provenance": [],
      "collapsed_sections": []
    },
    "kernelspec": {
      "name": "python3",
      "display_name": "Python 3"
    },
    "language_info": {
      "name": "python"
    }
  },
  "cells": [
    {
      "cell_type": "markdown",
      "metadata": {
        "id": "bquqFXWI3q1r"
      },
      "source": [
        "# 시계열 자료 다루기"
      ]
    },
    {
      "cell_type": "code",
      "metadata": {
        "id": "05f4PCQz3hzx"
      },
      "source": [
        "import numpy as np\n",
        "import pandas as pd"
      ],
      "execution_count": 2,
      "outputs": []
    },
    {
      "cell_type": "markdown",
      "metadata": {
        "id": "PXi2daOh30N-"
      },
      "source": [
        "##Datetimeindex 인덱스"
      ]
    },
    {
      "cell_type": "code",
      "metadata": {
        "colab": {
          "base_uri": "https://localhost:8080/"
        },
        "id": "3Qzi6rjy35PC",
        "outputId": "6d32ca8a-6b86-4474-a8f7-e4c4bf1ec213"
      },
      "source": [
        "date_str = [\"2021.08.10\", \"2021-8-11\", \"2021, 8, 12\", \"20210813\",\"081421\",\"8/15/21\"]\n",
        "idx = pd.to_datetime(date_str)\n",
        "idx"
      ],
      "execution_count": 6,
      "outputs": [
        {
          "output_type": "execute_result",
          "data": {
            "text/plain": [
              "DatetimeIndex(['2021-08-10', '2021-08-11', '2021-08-12', '2021-08-13',\n",
              "               '2021-08-14', '2021-08-15'],\n",
              "              dtype='datetime64[ns]', freq=None)"
            ]
          },
          "metadata": {
            "tags": []
          },
          "execution_count": 6
        }
      ]
    },
    {
      "cell_type": "code",
      "metadata": {
        "colab": {
          "base_uri": "https://localhost:8080/"
        },
        "id": "vB0E90eR4XBQ",
        "outputId": "a53df739-c1cb-46a9-b09e-ae4d11dfcc72"
      },
      "source": [
        "np.random.seed(2021)\n",
        "s = pd.Series(np.random.randn(6), index=idx)\n",
        "s"
      ],
      "execution_count": 8,
      "outputs": [
        {
          "output_type": "execute_result",
          "data": {
            "text/plain": [
              "2021-08-10    1.488609\n",
              "2021-08-11    0.676011\n",
              "2021-08-12   -0.418451\n",
              "2021-08-13   -0.806521\n",
              "2021-08-14    0.555876\n",
              "2021-08-15   -0.705504\n",
              "dtype: float64"
            ]
          },
          "metadata": {
            "tags": []
          },
          "execution_count": 8
        }
      ]
    },
    {
      "cell_type": "code",
      "metadata": {
        "colab": {
          "base_uri": "https://localhost:8080/"
        },
        "id": "KolEdHKL5liI",
        "outputId": "e9cf0cda-e90f-4c09-fec3-642658b225a4"
      },
      "source": [
        "pd.date_range('20210801','2021-8-31')"
      ],
      "execution_count": 9,
      "outputs": [
        {
          "output_type": "execute_result",
          "data": {
            "text/plain": [
              "DatetimeIndex(['2021-08-01', '2021-08-02', '2021-08-03', '2021-08-04',\n",
              "               '2021-08-05', '2021-08-06', '2021-08-07', '2021-08-08',\n",
              "               '2021-08-09', '2021-08-10', '2021-08-11', '2021-08-12',\n",
              "               '2021-08-13', '2021-08-14', '2021-08-15', '2021-08-16',\n",
              "               '2021-08-17', '2021-08-18', '2021-08-19', '2021-08-20',\n",
              "               '2021-08-21', '2021-08-22', '2021-08-23', '2021-08-24',\n",
              "               '2021-08-25', '2021-08-26', '2021-08-27', '2021-08-28',\n",
              "               '2021-08-29', '2021-08-30', '2021-08-31'],\n",
              "              dtype='datetime64[ns]', freq='D')"
            ]
          },
          "metadata": {
            "tags": []
          },
          "execution_count": 9
        }
      ]
    },
    {
      "cell_type": "code",
      "metadata": {
        "colab": {
          "base_uri": "https://localhost:8080/"
        },
        "id": "VC6XFnu358EH",
        "outputId": "deaa48e7-1b97-499c-e0c8-65957c6a9567"
      },
      "source": [
        "# 일(day)\n",
        "pd.date_range('20210801', periods=31)"
      ],
      "execution_count": 10,
      "outputs": [
        {
          "output_type": "execute_result",
          "data": {
            "text/plain": [
              "DatetimeIndex(['2021-08-01', '2021-08-02', '2021-08-03', '2021-08-04',\n",
              "               '2021-08-05', '2021-08-06', '2021-08-07', '2021-08-08',\n",
              "               '2021-08-09', '2021-08-10', '2021-08-11', '2021-08-12',\n",
              "               '2021-08-13', '2021-08-14', '2021-08-15', '2021-08-16',\n",
              "               '2021-08-17', '2021-08-18', '2021-08-19', '2021-08-20',\n",
              "               '2021-08-21', '2021-08-22', '2021-08-23', '2021-08-24',\n",
              "               '2021-08-25', '2021-08-26', '2021-08-27', '2021-08-28',\n",
              "               '2021-08-29', '2021-08-30', '2021-08-31'],\n",
              "              dtype='datetime64[ns]', freq='D')"
            ]
          },
          "metadata": {
            "tags": []
          },
          "execution_count": 10
        }
      ]
    },
    {
      "cell_type": "code",
      "metadata": {
        "colab": {
          "base_uri": "https://localhost:8080/"
        },
        "id": "fhcJaodm6MiH",
        "outputId": "85ca2c76-0f93-4b97-cda8-824fd9fbe3c9"
      },
      "source": [
        "# biz-day\n",
        "pd.date_range('20210801',periods = 22,freq='B')"
      ],
      "execution_count": 12,
      "outputs": [
        {
          "output_type": "execute_result",
          "data": {
            "text/plain": [
              "DatetimeIndex(['2021-08-02', '2021-08-03', '2021-08-04', '2021-08-05',\n",
              "               '2021-08-06', '2021-08-09', '2021-08-10', '2021-08-11',\n",
              "               '2021-08-12', '2021-08-13', '2021-08-16', '2021-08-17',\n",
              "               '2021-08-18', '2021-08-19', '2021-08-20', '2021-08-23',\n",
              "               '2021-08-24', '2021-08-25', '2021-08-26', '2021-08-27',\n",
              "               '2021-08-30', '2021-08-31', '2021-09-01', '2021-09-02',\n",
              "               '2021-09-03', '2021-09-06', '2021-09-07', '2021-09-08',\n",
              "               '2021-09-09', '2021-09-10', '2021-09-13'],\n",
              "              dtype='datetime64[ns]', freq='B')"
            ]
          },
          "metadata": {
            "tags": []
          },
          "execution_count": 12
        }
      ]
    },
    {
      "cell_type": "code",
      "metadata": {
        "colab": {
          "base_uri": "https://localhost:8080/"
        },
        "id": "maEh7AKw9Wx2",
        "outputId": "c0ebbc53-306e-43c8-aa54-d15594842c8c"
      },
      "source": [
        "# 일요일 (W)\n",
        "pd.date_range('20210801','20210831',freq='W')"
      ],
      "execution_count": 13,
      "outputs": [
        {
          "output_type": "execute_result",
          "data": {
            "text/plain": [
              "DatetimeIndex(['2021-08-01', '2021-08-08', '2021-08-15', '2021-08-22',\n",
              "               '2021-08-29'],\n",
              "              dtype='datetime64[ns]', freq='W-SUN')"
            ]
          },
          "metadata": {
            "tags": []
          },
          "execution_count": 13
        }
      ]
    },
    {
      "cell_type": "markdown",
      "metadata": {
        "id": "G6TEEzHj-RXv"
      },
      "source": [
        "- **freq**\\\n",
        "s: 초\\\n",
        "T: 분\\\n",
        "H: 시간\\\n",
        "D: 일(day)\\\n",
        "B: 주말이 아닌 평일\\\n",
        "W: 주(일요일)\\\n",
        "W-MON: 주(월요일)\\\n",
        "M: 각 달(month)의 마지막 날\\\n",
        "MS: 각 달의 첫날\\\n",
        "BM: 주말이 아닌 평일 중에서 각 달의 마지막 날\\\n",
        "BMS: 주말이 아닌 평일 중에서 각 달의 첫날\\\n",
        "WOM-2THU: 각 달의 두번째 목요일\\\n",
        "Q-JAN: 각 분기의 첫달의 마지막 날\\\n",
        "Q-DEC: 각 분기의 마지막 달의 마지막 날\\"
      ]
    },
    {
      "cell_type": "markdown",
      "metadata": {
        "id": "XUCff-_t-uy_"
      },
      "source": [
        "##resample 연산"
      ]
    },
    {
      "cell_type": "code",
      "metadata": {
        "colab": {
          "base_uri": "https://localhost:8080/"
        },
        "id": "4H8m_X5Y-XsR",
        "outputId": "44057644-802b-4f13-84f7-a5e3a44f3a55"
      },
      "source": [
        "ts = pd.Series(np.random.randn(100), index=pd.date_range(\n",
        "    \"2021-1-1\", periods=100))\n",
        "ts.tail(10)"
      ],
      "execution_count": 16,
      "outputs": [
        {
          "output_type": "execute_result",
          "data": {
            "text/plain": [
              "2021-04-01   -0.120349\n",
              "2021-04-02   -1.226517\n",
              "2021-04-03   -0.722695\n",
              "2021-04-04   -0.619026\n",
              "2021-04-05   -0.988081\n",
              "2021-04-06   -0.532415\n",
              "2021-04-07    1.182246\n",
              "2021-04-08    0.770814\n",
              "2021-04-09   -0.416720\n",
              "2021-04-10   -0.266896\n",
              "Freq: D, dtype: float64"
            ]
          },
          "metadata": {
            "tags": []
          },
          "execution_count": 16
        }
      ]
    },
    {
      "cell_type": "code",
      "metadata": {
        "colab": {
          "base_uri": "https://localhost:8080/"
        },
        "id": "iE2tVk3c-37P",
        "outputId": "7bcff319-8400-471b-8533-98bf6a87e331"
      },
      "source": [
        "ts.resample('M').first()"
      ],
      "execution_count": 18,
      "outputs": [
        {
          "output_type": "execute_result",
          "data": {
            "text/plain": [
              "2021-01-31   -0.387930\n",
              "2021-02-28   -2.868879\n",
              "2021-03-31   -0.185138\n",
              "2021-04-30   -0.120349\n",
              "Freq: M, dtype: float64"
            ]
          },
          "metadata": {
            "tags": []
          },
          "execution_count": 18
        }
      ]
    },
    {
      "cell_type": "code",
      "metadata": {
        "id": "g_wxVvxc_BVn"
      },
      "source": [
        ""
      ],
      "execution_count": null,
      "outputs": []
    }
  ]
}