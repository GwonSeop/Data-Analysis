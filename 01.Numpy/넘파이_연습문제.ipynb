{
  "nbformat": 4,
  "nbformat_minor": 0,
  "metadata": {
    "colab": {
      "name": "넘파이 연습문제.ipynb",
      "provenance": [],
      "collapsed_sections": []
    },
    "kernelspec": {
      "name": "python3",
      "display_name": "Python 3"
    },
    "language_info": {
      "name": "python"
    }
  },
  "cells": [
    {
      "cell_type": "markdown",
      "metadata": {
        "id": "vA6JIwW_LH2i"
      },
      "source": [
        "1."
      ]
    },
    {
      "cell_type": "code",
      "metadata": {
        "colab": {
          "base_uri": "https://localhost:8080/"
        },
        "id": "bdy2aaHlK5tX",
        "outputId": "dde23d1d-2b42-42bd-e367-60d369540825"
      },
      "source": [
        "import numpy as np\n",
        "a = np.array([[10,20,30,40],[50,60,70,80]])\n",
        "a"
      ],
      "execution_count": 2,
      "outputs": [
        {
          "output_type": "execute_result",
          "data": {
            "text/plain": [
              "array([[10, 20, 30, 40],\n",
              "       [50, 60, 70, 80]])"
            ]
          },
          "metadata": {
            "tags": []
          },
          "execution_count": 2
        }
      ]
    },
    {
      "cell_type": "code",
      "metadata": {
        "colab": {
          "base_uri": "https://localhost:8080/"
        },
        "id": "CKs1_3dPlE89",
        "outputId": "090d1559-4f47-4fef-f890-d933afcdc4b2"
      },
      "source": [
        "# 강사님 풀이\n",
        "np.arange(1,9).reshape(2,4) * 10"
      ],
      "execution_count": 64,
      "outputs": [
        {
          "output_type": "execute_result",
          "data": {
            "text/plain": [
              "array([[10, 20, 30, 40],\n",
              "       [50, 60, 70, 80]])"
            ]
          },
          "metadata": {
            "tags": []
          },
          "execution_count": 64
        }
      ]
    },
    {
      "cell_type": "markdown",
      "metadata": {
        "id": "wRN4RqBqLeW_"
      },
      "source": [
        "2."
      ]
    },
    {
      "cell_type": "code",
      "metadata": {
        "colab": {
          "base_uri": "https://localhost:8080/"
        },
        "id": "RvxDiA9gLYhu",
        "outputId": "0b634c58-0478-421a-a580-632eef641ac4"
      },
      "source": [
        "m = np.arange(15).reshape(3,5)\n",
        "m"
      ],
      "execution_count": 68,
      "outputs": [
        {
          "output_type": "execute_result",
          "data": {
            "text/plain": [
              "array([[ 0,  1,  2,  3,  4],\n",
              "       [ 5,  6,  7,  8,  9],\n",
              "       [10, 11, 12, 13, 14]])"
            ]
          },
          "metadata": {
            "tags": []
          },
          "execution_count": 68
        }
      ]
    },
    {
      "cell_type": "code",
      "metadata": {
        "colab": {
          "base_uri": "https://localhost:8080/"
        },
        "id": "EVNeveT6LtDi",
        "outputId": "81385272-cfe5-4160-a3a1-3ec2dcb9bfbd"
      },
      "source": [
        "#1)\n",
        "print(m[m==7])\n",
        "#2)\n",
        "print(m[m==14])\n",
        "#3)\n",
        "print(m[1,1:3])\n",
        "#4)\n",
        "print(m[1:3,2])\n",
        "#5)\n",
        "print(m[:2,3:])"
      ],
      "execution_count": 12,
      "outputs": [
        {
          "output_type": "stream",
          "text": [
            "[7]\n",
            "[14]\n",
            "[6 7]\n",
            "[ 7 12]\n",
            "[[3 4]\n",
            " [8 9]]\n"
          ],
          "name": "stdout"
        }
      ]
    },
    {
      "cell_type": "code",
      "metadata": {
        "colab": {
          "base_uri": "https://localhost:8080/"
        },
        "id": "YNMQ8YuPldLv",
        "outputId": "784f0e05-270b-4e4e-9468-4573c8a0f476"
      },
      "source": [
        "# 강사님 풀이\n",
        "m[1,2], m[-1,-1]\n",
        "m[1,1:3]\n",
        "m[1:,2]\n",
        "m[:2,3:]"
      ],
      "execution_count": 69,
      "outputs": [
        {
          "output_type": "execute_result",
          "data": {
            "text/plain": [
              "array([6, 7])"
            ]
          },
          "metadata": {
            "tags": []
          },
          "execution_count": 69
        }
      ]
    },
    {
      "cell_type": "markdown",
      "metadata": {
        "id": "Sq1uWxzeM0Ec"
      },
      "source": [
        "3."
      ]
    },
    {
      "cell_type": "code",
      "metadata": {
        "colab": {
          "base_uri": "https://localhost:8080/"
        },
        "id": "meOExM_FL2QL",
        "outputId": "995566a0-787a-4f0a-ad42-430c53372151"
      },
      "source": [
        "m = m.flatten()\n",
        "m"
      ],
      "execution_count": 14,
      "outputs": [
        {
          "output_type": "execute_result",
          "data": {
            "text/plain": [
              "array([ 0,  1,  2,  3,  4,  5,  6,  7,  8,  9, 10, 11, 12, 13, 14])"
            ]
          },
          "metadata": {
            "tags": []
          },
          "execution_count": 14
        }
      ]
    },
    {
      "cell_type": "code",
      "metadata": {
        "colab": {
          "base_uri": "https://localhost:8080/"
        },
        "id": "ZDcebtd-M8qK",
        "outputId": "61eab9ba-81d6-47fd-e001-13b72ea659ca"
      },
      "source": [
        "#1)\n",
        "print(m[m%3 == 0])\n",
        "#2)\n",
        "print(m[m%4==1])\n",
        "#3)\n",
        "print(m[(m%3==0)*(m%4==1)])"
      ],
      "execution_count": 24,
      "outputs": [
        {
          "output_type": "stream",
          "text": [
            "[ 0  3  6  9 12]\n",
            "[ 1  5  9 13]\n",
            "[9]\n"
          ],
          "name": "stdout"
        }
      ]
    },
    {
      "cell_type": "code",
      "metadata": {
        "id": "nbTLQm4Nmg1i"
      },
      "source": [
        "# 강사님 풀이\n",
        "m[m%3==0]\n",
        "m[m%4==1]\n",
        "m[np.logical_and(f%3==0, f%4==1)]"
      ],
      "execution_count": null,
      "outputs": []
    },
    {
      "cell_type": "markdown",
      "metadata": {
        "id": "K8DvxdP1QqdR"
      },
      "source": [
        "4."
      ]
    },
    {
      "cell_type": "code",
      "metadata": {
        "colab": {
          "base_uri": "https://localhost:8080/"
        },
        "id": "2_lc7cIcNH2q",
        "outputId": "c2ad1c9e-a79d-4317-9414-f41c4bc63716"
      },
      "source": [
        "a = np.eye(5,5)*2 + np.eye(5,5,1) + np.eye(5,5,-1)*3\n",
        "a"
      ],
      "execution_count": 26,
      "outputs": [
        {
          "output_type": "execute_result",
          "data": {
            "text/plain": [
              "array([[2., 1., 0., 0., 0.],\n",
              "       [3., 2., 1., 0., 0.],\n",
              "       [0., 3., 2., 1., 0.],\n",
              "       [0., 0., 3., 2., 1.],\n",
              "       [0., 0., 0., 3., 2.]])"
            ]
          },
          "metadata": {
            "tags": []
          },
          "execution_count": 26
        }
      ]
    },
    {
      "cell_type": "markdown",
      "metadata": {
        "id": "TzbsAZuISETE"
      },
      "source": [
        "5."
      ]
    },
    {
      "cell_type": "code",
      "metadata": {
        "colab": {
          "base_uri": "https://localhost:8080/"
        },
        "id": "Cbi_e6kFRtfr",
        "outputId": "0c0b9965-7ec6-4433-a062-5d648b2d02e1"
      },
      "source": [
        "a = np.random.randint(0, 11, 30).reshape(5,6)\n",
        "a"
      ],
      "execution_count": 29,
      "outputs": [
        {
          "output_type": "execute_result",
          "data": {
            "text/plain": [
              "array([[10,  4,  5,  0,  3,  6],\n",
              "       [ 4,  0,  9,  0,  5,  7],\n",
              "       [ 4, 10,  7,  9,  4,  5],\n",
              "       [ 8,  8,  5,  0,  7,  6],\n",
              "       [ 8,  1,  0,  7,  5,  8]])"
            ]
          },
          "metadata": {
            "tags": []
          },
          "execution_count": 29
        }
      ]
    },
    {
      "cell_type": "code",
      "metadata": {
        "id": "dnALlj29nK4S"
      },
      "source": [
        "# 강사님\n",
        "np.random.seed(2021)\n",
        "m = np.random.uniform(0,10,30).reshape(5,6).round(4)\n",
        "m"
      ],
      "execution_count": null,
      "outputs": []
    },
    {
      "cell_type": "code",
      "metadata": {
        "colab": {
          "base_uri": "https://localhost:8080/"
        },
        "id": "PErixS5IScCy",
        "outputId": "117b8e03-1e17-42d3-b766-73b3b1ea0fc0"
      },
      "source": [
        "#1)\n",
        "print(a.max())\n",
        "#2\n",
        "print(a.sum(axis=1))\n",
        "#3\n",
        "print(a.max(axis=1))\n",
        "#4\n",
        "print(a.mean(axis=0))\n",
        "#5\n",
        "print(a.min(axis=0))"
      ],
      "execution_count": 36,
      "outputs": [
        {
          "output_type": "stream",
          "text": [
            "10\n",
            "[28 25 39 34 29]\n",
            "[10  9 10  8  8]\n",
            "[6.8 4.6 5.2 3.2 4.8 6.4]\n",
            "[4 0 0 0 3 5]\n"
          ],
          "name": "stdout"
        }
      ]
    },
    {
      "cell_type": "markdown",
      "metadata": {
        "id": "VGEnkCO0TGkD"
      },
      "source": [
        "6."
      ]
    },
    {
      "cell_type": "code",
      "metadata": {
        "colab": {
          "base_uri": "https://localhost:8080/"
        },
        "id": "JLveBuRoSou6",
        "outputId": "7de50fe6-2edd-476a-bdaf-d4a61ac0c44f"
      },
      "source": [
        "score = np.array([[1,2,3,4],[46,99,100,71],[81,59,90,100]])\n",
        "score"
      ],
      "execution_count": 70,
      "outputs": [
        {
          "output_type": "execute_result",
          "data": {
            "text/plain": [
              "array([[  1,   2,   3,   4],\n",
              "       [ 46,  99, 100,  71],\n",
              "       [ 81,  59,  90, 100]])"
            ]
          },
          "metadata": {
            "tags": []
          },
          "execution_count": 70
        }
      ]
    },
    {
      "cell_type": "code",
      "metadata": {
        "id": "cO1gEEQ6oc13"
      },
      "source": [
        "np.sort(score)"
      ],
      "execution_count": null,
      "outputs": []
    },
    {
      "cell_type": "code",
      "metadata": {
        "colab": {
          "base_uri": "https://localhost:8080/"
        },
        "id": "OkaXEUBmowTL",
        "outputId": "10666959-5373-491a-82ff-e03df658f072"
      },
      "source": [
        "s = np.argsort(score[1])\n",
        "s"
      ],
      "execution_count": 71,
      "outputs": [
        {
          "output_type": "execute_result",
          "data": {
            "text/plain": [
              "array([0, 3, 1, 2])"
            ]
          },
          "metadata": {
            "tags": []
          },
          "execution_count": 71
        }
      ]
    },
    {
      "cell_type": "code",
      "metadata": {
        "colab": {
          "base_uri": "https://localhost:8080/"
        },
        "id": "bWetxAw_o_DY",
        "outputId": "993faeec-b820-496c-c373-0315f773ff37"
      },
      "source": [
        "# 내림차순\n",
        "s[::-1]"
      ],
      "execution_count": 72,
      "outputs": [
        {
          "output_type": "execute_result",
          "data": {
            "text/plain": [
              "array([2, 1, 3, 0])"
            ]
          },
          "metadata": {
            "tags": []
          },
          "execution_count": 72
        }
      ]
    },
    {
      "cell_type": "code",
      "metadata": {
        "colab": {
          "base_uri": "https://localhost:8080/"
        },
        "id": "W-acmspLpEMc",
        "outputId": "931bfe3a-0e43-41ae-c5b0-10f02d934b5e"
      },
      "source": [
        "score[:,s[::-1]]"
      ],
      "execution_count": 73,
      "outputs": [
        {
          "output_type": "execute_result",
          "data": {
            "text/plain": [
              "array([[  3,   2,   4,   1],\n",
              "       [100,  99,  71,  46],\n",
              "       [ 90,  59, 100,  81]])"
            ]
          },
          "metadata": {
            "tags": []
          },
          "execution_count": 73
        }
      ]
    },
    {
      "cell_type": "code",
      "metadata": {
        "id": "WBAs_KEdpO0s"
      },
      "source": [
        "# 한 줄로\n",
        "score[:,np.argsort(score[1])[::-1]]"
      ],
      "execution_count": null,
      "outputs": []
    },
    {
      "cell_type": "code",
      "metadata": {
        "colab": {
          "base_uri": "https://localhost:8080/"
        },
        "id": "32z_UZUpTObu",
        "outputId": "6dcd2b85-f3a7-49d1-e9c3-285d7fc7524e"
      },
      "source": [
        "np.sort(m[1,:],)[::-1]"
      ],
      "execution_count": 48,
      "outputs": [
        {
          "output_type": "execute_result",
          "data": {
            "text/plain": [
              "array([100,  99,  71,  46])"
            ]
          },
          "metadata": {
            "tags": []
          },
          "execution_count": 48
        }
      ]
    },
    {
      "cell_type": "markdown",
      "metadata": {
        "id": "S2bFWOX7Vn4s"
      },
      "source": [
        "7."
      ]
    },
    {
      "cell_type": "code",
      "metadata": {
        "colab": {
          "base_uri": "https://localhost:8080/"
        },
        "id": "pml0chKeUhs5",
        "outputId": "f9d169ca-402e-4c73-d6b1-ca8d74082a44"
      },
      "source": [
        "m = np.random.randint(1,7,100)\n",
        "print(m.mean())"
      ],
      "execution_count": 56,
      "outputs": [
        {
          "output_type": "stream",
          "text": [
            "3.31\n"
          ],
          "name": "stdout"
        }
      ]
    },
    {
      "cell_type": "code",
      "metadata": {
        "id": "EXL7b9yppfib"
      },
      "source": [
        "#강사님\n",
        "np.random.seed(2021)\n",
        "dice = np.random.randint(1,7,100)\n",
        "dice\n",
        "np.mean(dice)"
      ],
      "execution_count": null,
      "outputs": []
    },
    {
      "cell_type": "markdown",
      "metadata": {
        "id": "Yz3l3wnHWsrk"
      },
      "source": [
        "8."
      ]
    },
    {
      "cell_type": "code",
      "metadata": {
        "colab": {
          "base_uri": "https://localhost:8080/",
          "height": 298
        },
        "id": "8iuN5vPsV3LQ",
        "outputId": "f3157d33-7717-455f-8681-fb00cea10c01"
      },
      "source": [
        " m = np.random.randn(0,0.01,250)\n",
        " m\n"
      ],
      "execution_count": 63,
      "outputs": [
        {
          "output_type": "error",
          "ename": "TypeError",
          "evalue": "ignored",
          "traceback": [
            "\u001b[0;31m---------------------------------------------------------------------------\u001b[0m",
            "\u001b[0;31mTypeError\u001b[0m                                 Traceback (most recent call last)",
            "\u001b[0;32m<ipython-input-63-43cc0e040aa4>\u001b[0m in \u001b[0;36m<module>\u001b[0;34m()\u001b[0m\n\u001b[0;32m----> 1\u001b[0;31m \u001b[0mm\u001b[0m \u001b[0;34m=\u001b[0m \u001b[0mnp\u001b[0m\u001b[0;34m.\u001b[0m\u001b[0mrandom\u001b[0m\u001b[0;34m.\u001b[0m\u001b[0mrandn\u001b[0m\u001b[0;34m(\u001b[0m\u001b[0;36m0\u001b[0m\u001b[0;34m,\u001b[0m\u001b[0;36m0.01\u001b[0m\u001b[0;34m,\u001b[0m\u001b[0;36m250\u001b[0m\u001b[0;34m)\u001b[0m\u001b[0;34m\u001b[0m\u001b[0;34m\u001b[0m\u001b[0m\n\u001b[0m\u001b[1;32m      2\u001b[0m \u001b[0mm\u001b[0m\u001b[0;34m\u001b[0m\u001b[0;34m\u001b[0m\u001b[0m\n",
            "\u001b[0;32mmtrand.pyx\u001b[0m in \u001b[0;36mnumpy.random.mtrand.RandomState.randn\u001b[0;34m()\u001b[0m\n",
            "\u001b[0;32mmtrand.pyx\u001b[0m in \u001b[0;36mnumpy.random.mtrand.RandomState.standard_normal\u001b[0;34m()\u001b[0m\n",
            "\u001b[0;32m_common.pyx\u001b[0m in \u001b[0;36mnumpy.random._common.cont\u001b[0;34m()\u001b[0m\n",
            "\u001b[0;31mTypeError\u001b[0m: 'float' object cannot be interpreted as an integer"
          ]
        }
      ]
    },
    {
      "cell_type": "code",
      "metadata": {
        "id": "uCtfLvaNXUeh"
      },
      "source": [
        ""
      ],
      "execution_count": null,
      "outputs": []
    }
  ]
}