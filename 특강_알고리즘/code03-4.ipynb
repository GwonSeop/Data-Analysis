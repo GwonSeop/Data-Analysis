{
 "cells": [
  {
   "cell_type": "code",
   "execution_count": null,
   "source": [
    "## 함수 선언부\r\n",
    "def add_data(friend):\r\n",
    "    katok.append(None)\r\n",
    "    kLen =len(katok)\r\n",
    "    katok[kLen-1] = friend\r\n",
    "def insert_data2(position, friend):\r\n",
    "    katok1=katok[:position-1]\r\n",
    "    katok2=katok[position-1:]\r\n",
    "    katok = katok1 + [friend] + katok2\r\n",
    "def delete_data(position):\r\n",
    "    kLen = len(katok)\r\n",
    "    katok[position] = None\r\n",
    "\r\n",
    "    for i in range(position+1, kLen, 1):\r\n",
    "        katok[i-1] = katok[i]\r\n",
    "        katok[i] = None\r\n",
    "    del(katok[kLen-1])\r\n",
    "## 전역 변수부\r\n",
    "katok = []\r\n",
    "select = -1 # 1.추가 2.삽입 3.삭제 4.종료\r\n",
    "\r\n",
    "## 메인 코드부\r\n",
    "while (select != 4):\r\n",
    "    select = int(input('1.추가 2.삽입 3.삭제 4.종료 --> '))\r\n",
    "\r\n",
    "    if (select == 1):\r\n",
    "        friend = input('친구 이름을 입력 >') # 추가 작동\r\n",
    "        add_data(friend)\r\n",
    "    elif (select == 2):\r\n",
    "        friend = input('친구 이름을 입력 >')\r\n",
    "        position = int(input('친구의 위치를 설정 >')\r\n",
    "        insert_data2(position, friend)\r\n",
    "         # 삽입 작동\r\n",
    "    elif (select == 3):\r\n",
    "        position = int(input('삭제할 친구의 위치를 설정 >') # 삭제 작동\r\n",
    "        delete_data(position)\r\n",
    "    elif (select ==4):\r\n",
    "        print(katok)\r\n",
    "        break\r\n",
    "    else:\r\n",
    "        print('다시 확인')"
   ],
   "outputs": [],
   "metadata": {}
  }
 ],
 "metadata": {
  "orig_nbformat": 4,
  "language_info": {
   "name": "python"
  }
 },
 "nbformat": 4,
 "nbformat_minor": 2
}