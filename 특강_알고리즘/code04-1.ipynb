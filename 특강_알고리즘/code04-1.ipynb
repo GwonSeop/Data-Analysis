{
 "cells": [
  {
   "cell_type": "code",
   "execution_count": 1,
   "source": [
    "class Node():\r\n",
    "    def __init__(self):\r\n",
    "        self.data = None\r\n",
    "        self.link = None"
   ],
   "outputs": [],
   "metadata": {}
  },
  {
   "cell_type": "code",
   "execution_count": 2,
   "source": [
    "node1 = Node()\r\n",
    "node1.data = '다현'"
   ],
   "outputs": [],
   "metadata": {}
  },
  {
   "cell_type": "code",
   "execution_count": 3,
   "source": [
    "node2 = Node()\r\n",
    "node2.data = '정연'\r\n",
    "node1.link = node1"
   ],
   "outputs": [],
   "metadata": {}
  },
  {
   "cell_type": "code",
   "execution_count": 4,
   "source": [
    "node1 = Node()\r\n",
    "node1.data = '쯔위'\r\n",
    "node2 = Node()\r\n",
    "node2.data = '사나'\r\n",
    "node1.link = node2\r\n",
    "node3 = Node()\r\n",
    "node3.data = '다현'\r\n",
    "node2.link = node3"
   ],
   "outputs": [],
   "metadata": {}
  },
  {
   "cell_type": "code",
   "execution_count": 5,
   "source": [
    "#print(node1.data, end=' ')\r\n",
    "#print(node1.link.data, end=' ')\r\n",
    "#print(node1.link.link.data, end=' ')"
   ],
   "outputs": [],
   "metadata": {}
  },
  {
   "cell_type": "code",
   "execution_count": 6,
   "source": [
    "current = node1\r\n",
    "print(current.data,end=' ')\r\n",
    "while (current.link != None):\r\n",
    "    current = current.link\r\n",
    "    print(current.data, end=' ')"
   ],
   "outputs": [
    {
     "output_type": "stream",
     "name": "stdout",
     "text": [
      "쯔위 사나 다현 "
     ]
    }
   ],
   "metadata": {}
  },
  {
   "cell_type": "code",
   "execution_count": null,
   "source": [],
   "outputs": [],
   "metadata": {}
  }
 ],
 "metadata": {
  "orig_nbformat": 4,
  "language_info": {
   "name": "python",
   "version": "3.8.8",
   "mimetype": "text/x-python",
   "codemirror_mode": {
    "name": "ipython",
    "version": 3
   },
   "pygments_lexer": "ipython3",
   "nbconvert_exporter": "python",
   "file_extension": ".py"
  },
  "kernelspec": {
   "name": "python3",
   "display_name": "Python 3.8.8 64-bit ('base': conda)"
  },
  "interpreter": {
   "hash": "95c10dbc6f7eccef0c1ace84822d618f7863d3bc26cab307fc0169bb43c23fbe"
  }
 },
 "nbformat": 4,
 "nbformat_minor": 2
}