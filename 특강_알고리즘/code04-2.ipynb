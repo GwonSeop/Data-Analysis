{
 "cells": [
  {
   "cell_type": "code",
   "execution_count": 13,
   "source": [
    "## 함수 선언부\r\n",
    "class Node():\r\n",
    "    def __init__(self):\r\n",
    "        self.data = None\r\n",
    "        self.link = None\r\n",
    "\r\n",
    "def printNodes(start):\r\n",
    "    current = start\r\n",
    "    print(current.data,end=' ')\r\n",
    "    while (current.link != None):\r\n",
    "        current = current.link\r\n",
    "        print(current.data, end=' ')\r\n",
    "    print()\r\n",
    "\r\n",
    "def insertNode(findData, insertData):\r\n",
    "    global memory, head, current, pre\r\n",
    "    if head.data == findData: # 첫노드 앞에 삽입\r\n",
    "        node = Node()\r\n",
    "        node.data = insertData\r\n",
    "        node.link = head\r\n",
    "        head = node\r\n",
    "        memory.append(node)\r\n",
    "        return\r\n",
    "    current = head\r\n",
    "    while current.link != None:\r\n",
    "        pre = current\r\n",
    "        current = current.link\r\n",
    "        if current.data == findData :\r\n",
    "            node = Node()\r\n",
    "            node.data = insertData\r\n",
    "            node.link = current\r\n",
    "            pre.link = node\r\n",
    "            memory.append(node)\r\n",
    "            return\r\n",
    "    node = Node() # 마지막 노드에 삽입\r\n",
    "    node.data = insertData\r\n",
    "    current.link = node\r\n",
    "    return\r\n",
    "\r\n",
    "def deleteNode(deleteData):\r\n",
    "    global memory, head, current, pre\r\n",
    "    if head.data == deleteData:\r\n",
    "        current = head\r\n",
    "        head = head.link\r\n",
    "        del(current)\r\n",
    "        return\r\n",
    "    current = head\r\n",
    "    while current.link != None:\r\n",
    "        pre = current\r\n",
    "        current = current.link\r\n",
    "        if current.data == deleteData:\r\n",
    "            pre.link = current.link\r\n",
    "            del(current)\r\n",
    "            return\r\n",
    "    \r\n",
    "def findNode(findData):\r\n",
    "    global memory, head, current, pre\r\n",
    "    current = head\r\n",
    "    while current.link != None:\r\n",
    "        pre = current\r\n",
    "        current = current.link\r\n",
    "        if current.data == findData:\r\n",
    "            print(current.link)\r\n",
    "            return\r\n",
    "## 전역 변수부\r\n",
    "memory = []  # 노드를 저장할 공간\r\n",
    "head,current, pre = None, None, None\r\n",
    "dataArray = ['다현', '정연', '쯔위', '사나', '지효']\r\n",
    "\r\n",
    "## 메인 코드부\r\n",
    "node = Node()   # 첫번째 노드\r\n",
    "node.data = dataArray[0]\r\n",
    "head = node\r\n",
    "memory.append(node)\r\n",
    "for data in dataArray[1:]:\r\n",
    "    pre = node\r\n",
    "    node = Node()\r\n",
    "    node.data = data\r\n",
    "    pre.link = node\r\n",
    "    memory.append(node)\r\n",
    "printNodes(head)"
   ],
   "outputs": [
    {
     "output_type": "stream",
     "name": "stdout",
     "text": [
      "다현 정연 쯔위 사나 지효 \n"
     ]
    }
   ],
   "metadata": {}
  },
  {
   "cell_type": "code",
   "execution_count": 10,
   "source": [
    "deleteNode('쯔위')\r\n",
    "printNodes(head)"
   ],
   "outputs": [
    {
     "output_type": "stream",
     "name": "stdout",
     "text": [
      "다현 정연 사나 지효 \n"
     ]
    }
   ],
   "metadata": {}
  },
  {
   "cell_type": "code",
   "execution_count": 15,
   "source": [
    "findNode('정연')"
   ],
   "outputs": [
    {
     "output_type": "stream",
     "name": "stdout",
     "text": [
      "<__main__.Node object at 0x000001CAF0719850>\n"
     ]
    }
   ],
   "metadata": {}
  },
  {
   "cell_type": "code",
   "execution_count": null,
   "source": [],
   "outputs": [],
   "metadata": {}
  }
 ],
 "metadata": {
  "orig_nbformat": 4,
  "language_info": {
   "name": "python",
   "version": "3.8.8",
   "mimetype": "text/x-python",
   "codemirror_mode": {
    "name": "ipython",
    "version": 3
   },
   "pygments_lexer": "ipython3",
   "nbconvert_exporter": "python",
   "file_extension": ".py"
  },
  "kernelspec": {
   "name": "python3",
   "display_name": "Python 3.8.8 64-bit ('base': conda)"
  },
  "interpreter": {
   "hash": "95c10dbc6f7eccef0c1ace84822d618f7863d3bc26cab307fc0169bb43c23fbe"
  }
 },
 "nbformat": 4,
 "nbformat_minor": 2
}