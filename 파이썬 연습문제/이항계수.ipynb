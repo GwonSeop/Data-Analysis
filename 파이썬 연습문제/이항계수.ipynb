{
 "cells": [
  {
   "cell_type": "markdown",
   "source": [
    "자연수 \\(N\\)과 정수 \\(K\\)가 주어졌을 때 이항 계수 \r\n",
    "\\(\\binom{N}{K}\\)를 1,000,000,007로 나눈 나머지를 구하는 프로그램을 작성하시오."
   ],
   "metadata": {}
  },
  {
   "cell_type": "code",
   "execution_count": null,
   "source": [],
   "outputs": [],
   "metadata": {}
  }
 ],
 "metadata": {
  "orig_nbformat": 4,
  "language_info": {
   "name": "python"
  }
 },
 "nbformat": 4,
 "nbformat_minor": 2
}