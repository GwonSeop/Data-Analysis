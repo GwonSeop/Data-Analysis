{
  "nbformat": 4,
  "nbformat_minor": 0,
  "metadata": {
    "colab": {
      "name": "알람 시계문제.ipynb",
      "provenance": [],
      "collapsed_sections": []
    },
    "kernelspec": {
      "name": "python3",
      "display_name": "Python 3"
    },
    "language_info": {
      "name": "python"
    }
  },
  "cells": [
    {
      "cell_type": "markdown",
      "metadata": {
        "id": "AQH4E8Pn7CJ2"
      },
      "source": [
        "문제 \\\n",
        "상근이는 매일 아침 알람을 듣고 일어난다. 알람을 듣고 바로 일어나면 다행이겠지만, 항상 조금만 더 자려는 마음 때문에 매일 학교를 지각하고 있다.\n",
        "\n",
        "상근이는 모든 방법을 동원해보았지만, 조금만 더 자려는 마음은 그 어떤 것도 없앨 수가 없었다.\n",
        "\n",
        "이런 상근이를 불쌍하게 보던, 창영이는 자신이 사용하는 방법을 추천해 주었다.\n",
        "\n",
        "바로 \"45분 일찍 알람 설정하기\"이다.\n",
        "\n",
        "이 방법은 단순하다. 원래 설정되어 있는 알람을 45분 앞서는 시간으로 바꾸는 것이다. 어차피 알람 소리를 들으면, 알람을 끄고 조금 더 잘 것이기 때문이다. 이 방법을 사용하면, 매일 아침 더 잤다는 기분을 느낄 수 있고, 학교도 지각하지 않게 된다.\n",
        "\n",
        "현재 상근이가 설정한 알람 시각이 주어졌을 때, 창영이의 방법을 사용한다면, 이를 언제로 고쳐야 하는지 구하는 프로그램을 작성하시오.\n",
        "\n",
        "입력 \\\n",
        "\n",
        "첫째 줄에 두 정수 H와 M이 주어진다. (0 ≤ H ≤ 23, 0 ≤ M ≤ 59) 그리고 이것은 현재 상근이가 설정한 놓은 알람 시간 H시 M분을 의미한다.\n",
        "\n",
        "입력 시간은 24시간 표현을 사용한다. 24시간 표현에서 하루의 시작은 0:0(자정)이고, 끝은 23:59(다음날 자정 1분 전)이다. 시간을 나타낼 때, 불필요한 0은 사용하지 않는다.\n",
        "\n",
        "출력 \\\n",
        "\n",
        "첫째 줄에 상근이가 창영이의 방법을 사용할 때, 설정해야 하는 알람 시간을 출력한다. (입력과 같은 형태로 출력하면 된다.)"
      ]
    },
    {
      "cell_type": "code",
      "metadata": {
        "colab": {
          "base_uri": "https://localhost:8080/"
        },
        "id": "leYeErG87LGj",
        "outputId": "169436d5-ccc0-4fcd-e5d1-d2352fa5a465"
      },
      "source": [
        "H, M = map(int,input('0 <= H <= 23, 0 <= M <= 59 인 값을 입력해주세요').split())\n",
        "if 0 <= H <= 23 and 0<= M <= 59:\n",
        "  if M >= 45:\n",
        "    M = M - 45\n",
        "    print(f'{H:02}: {M:02d}')\n",
        "  else:\n",
        "    M = 15 + M\n",
        "    H = H -1\n",
        "    print(f'{H:02}: {M:02}')\n",
        "else:\n",
        "  print('H, M 값의 범위가 옳지 않습니다.')\n"
      ],
      "execution_count": 30,
      "outputs": [
        {
          "output_type": "stream",
          "text": [
            "0 <= H <= 23, 0 <= M <= 59 인 값을 입력해주세요10 45\n",
            "10: 00\n"
          ],
          "name": "stdout"
        }
      ]
    },
    {
      "cell_type": "code",
      "metadata": {
        "id": "qHDziWid700v"
      },
      "source": [
        ""
      ],
      "execution_count": 14,
      "outputs": []
    },
    {
      "cell_type": "code",
      "metadata": {
        "colab": {
          "base_uri": "https://localhost:8080/"
        },
        "id": "QZ7YTP_QBSED",
        "outputId": "96447ead-5ac3-419c-a0ed-21bd2d459b7c"
      },
      "source": [
        "n=1\n",
        "print(f'{n:03}')"
      ],
      "execution_count": 27,
      "outputs": [
        {
          "output_type": "stream",
          "text": [
            "001\n"
          ],
          "name": "stdout"
        }
      ]
    },
    {
      "cell_type": "code",
      "metadata": {
        "id": "SK-CZpndBT3k"
      },
      "source": [
        ""
      ],
      "execution_count": null,
      "outputs": []
    }
  ]
}