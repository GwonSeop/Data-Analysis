{
  "nbformat": 4,
  "nbformat_minor": 0,
  "metadata": {
    "colab": {
      "name": "연습문제1.ipynb",
      "provenance": [],
      "collapsed_sections": []
    },
    "kernelspec": {
      "name": "python3",
      "display_name": "Python 3"
    },
    "language_info": {
      "name": "python"
    }
  },
  "cells": [
    {
      "cell_type": "code",
      "metadata": {
        "colab": {
          "base_uri": "https://localhost:8080/"
        },
        "id": "mnMQTMW_qik3",
        "outputId": "59d4f35c-2f18-49f2-dfdc-cc078d83395a"
      },
      "source": [
        "#소인수 분해\n",
        "while True:\n",
        "  n = int(input('1 <= N <= 10,000,000 값을 입력해 주십시오.'))\n",
        "  divide_=[]\n",
        "  if 1 <= n <= 10000000:\n",
        "    break\n",
        "for _ in range(n):\n",
        "  n = int(n)\n",
        "  for i in range(2,n):\n",
        "    if n % i == 0:\n",
        "      print(i)\n",
        "      n = n / i\n",
        "      break\n",
        "if n != 1:\n",
        "  print(n)"
      ],
      "execution_count": 44,
      "outputs": [
        {
          "output_type": "stream",
          "text": [
            "1 <= N <= 10,000,000 값을 입력해 주십시오.56\n",
            "2\n",
            "2\n",
            "2\n",
            "7\n"
          ],
          "name": "stdout"
        }
      ]
    },
    {
      "cell_type": "code",
      "metadata": {
        "id": "ju4rk3Kexsym"
      },
      "source": [
        ""
      ],
      "execution_count": null,
      "outputs": []
    }
  ]
}