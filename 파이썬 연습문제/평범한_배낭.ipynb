{
 "cells": [
  {
   "cell_type": "markdown",
   "source": [
    "이 문제는 아주 평범한 배낭에 관한 문제이다.\r\n",
    "\r\n",
    "한 달 후면 국가의 부름을 받게 되는 준서는 여행을 가려고 한다. 세상과의 단절을 슬퍼하며 최대한 즐기기 위한 여행이기 때문에, 가지고 다닐 배낭 또한 최대한 가치 있게 싸려고 한다.\r\n",
    "\r\n",
    "준서가 여행에 필요하다고 생각하는 N개의 물건이 있다. 각 물건은 무게 W와 가치 V를 가지는데, 해당 물건을 배낭에 넣어서 가면 준서가 V만큼 즐길 수 있다. 아직 행군을 해본 적이 없는 준서는 최대 K만큼의 무게만을 넣을 수 있는 배낭만 들고 다닐 수 있다. 준서가 최대한 즐거운 여행을 하기 위해 배낭에 넣을 수 있는 물건들의 가치의 최댓값을 알려주자."
   ],
   "metadata": {}
  },
  {
   "cell_type": "markdown",
   "source": [
    "첫 줄에 물품의 수 N(1 ≤ N ≤ 100)과 준서가 버틸 수 있는 무게 K(1 ≤ K ≤ 100,000)가 주어진다. 두 번째 줄부터 N개의 줄에 거쳐 각 물건의 무게 W(1 ≤ W ≤ 100,000)와 해당 물건의 가치 V(0 ≤ V ≤ 1,000)가 주어진다.\r\n",
    "\r\n",
    "입력으로 주어지는 모든 수는 정수이다."
   ],
   "metadata": {}
  },
  {
   "cell_type": "code",
   "execution_count": 1,
   "source": [
    "n, k = map(int,input().split())\r\n",
    "w_list = []\r\n",
    "v_list = []\r\n",
    "max_h = 0\r\n",
    "for _ in range(n):\r\n",
    "    w, v = map(int,input().split())\r\n",
    "    w_list.append(w)\r\n",
    "    v_list.append(v)\r\n",
    "for i in range(n):\r\n",
    "    if w_list[i] <=k:\r\n",
    "        if max_h < v_list[i]:\r\n",
    "            max_h = v_list[i]\r\n",
    "    for u in range(i,n):\r\n",
    "        if w_list[i] + w_list[u] <= k:\r\n",
    "            if max_h < v_list[i] + v_list[u]:\r\n",
    "                max_h = v_list[i] + v_list[u]\r\n",
    "\r\n",
    "print(max_h)\r\n"
   ],
   "outputs": [
    {
     "output_type": "stream",
     "name": "stdout",
     "text": [
      "14\n"
     ]
    }
   ],
   "metadata": {}
  },
  {
   "cell_type": "code",
   "execution_count": null,
   "source": [],
   "outputs": [],
   "metadata": {}
  }
 ],
 "metadata": {
  "orig_nbformat": 4,
  "language_info": {
   "name": "python",
   "version": "3.8.8",
   "mimetype": "text/x-python",
   "codemirror_mode": {
    "name": "ipython",
    "version": 3
   },
   "pygments_lexer": "ipython3",
   "nbconvert_exporter": "python",
   "file_extension": ".py"
  },
  "kernelspec": {
   "name": "python3",
   "display_name": "Python 3.8.8 64-bit ('base': conda)"
  },
  "interpreter": {
   "hash": "95c10dbc6f7eccef0c1ace84822d618f7863d3bc26cab307fc0169bb43c23fbe"
  }
 },
 "nbformat": 4,
 "nbformat_minor": 2
}