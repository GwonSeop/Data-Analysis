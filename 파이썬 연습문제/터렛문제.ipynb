{
 "cells": [
  {
   "cell_type": "markdown",
   "source": [
    "조규현의 좌표 (x1, y1)와 백승환의 좌표 (x2, y2)가 주어지고, 조규현이 계산한 류재명과의 거리 r1과 백승환이 계산한 류재명과의 거리 r2가 주어졌을 때, 류재명이 있을 수 있는 좌표의 수를 출력하는 프로그램을 작성하시오.\r\n",
    "- 첫째 줄에 테스트 케이스의 개수 T가 주어진다. 각 테스트 케이스는 다음과 같이 이루어져 있다.\r\n",
    "\r\n",
    "한 줄에 x1, y1, r1, x2, y2, r2가 주어진다. x1, y1, x2, y2는 -10,000보다 크거나 같고, 10,000보다 작거나 같은 정수이고, r1, r2는 10,000보다 작거나 같은 자연수이다."
   ],
   "metadata": {}
  },
  {
   "cell_type": "code",
   "execution_count": 8,
   "source": [
    "import math\r\n",
    "n = int(input('테스트할 횟수를 정하시오 >>'))\r\n",
    "for _ in range(n):\r\n",
    "    x1, y1, r1, x2, y2, r2 = map(int,input('x1,y1,r1,x2,y2,r2를 띄어쓰기를 기준으로 순서대로 입력하시오').split())\r\n",
    "    if math.sqrt((x1 - x2)**2 + (y1 - y2)**2) + r1 < r2 or math.sqrt((x1 - x2)**2 + (y1 - y2)**2) + r2 < r1:\r\n",
    "        print(0)\r\n",
    "    elif x1 == x2 and y1 == y2 and r1 == r2:\r\n",
    "        print(-1)\r\n",
    "    elif math.sqrt((x1 - x2)**2 + (y1 - y2)**2) > r1 + r2:\r\n",
    "        print(0)\r\n",
    "    elif math.sqrt((x1 - x2)**2 + (y1 - y2)**2) == r1 + r2:\r\n",
    "        print(1)\r\n",
    "    else:\r\n",
    "        print(2)\r\n"
   ],
   "outputs": [
    {
     "output_type": "stream",
     "name": "stdout",
     "text": [
      "2\n",
      "1\n",
      "0\n"
     ]
    }
   ],
   "metadata": {}
  },
  {
   "cell_type": "code",
   "execution_count": null,
   "source": [],
   "outputs": [],
   "metadata": {}
  }
 ],
 "metadata": {
  "orig_nbformat": 4,
  "language_info": {
   "name": "python",
   "version": "3.8.8",
   "mimetype": "text/x-python",
   "codemirror_mode": {
    "name": "ipython",
    "version": 3
   },
   "pygments_lexer": "ipython3",
   "nbconvert_exporter": "python",
   "file_extension": ".py"
  },
  "kernelspec": {
   "name": "python3",
   "display_name": "Python 3.8.8 64-bit ('base': conda)"
  },
  "interpreter": {
   "hash": "95c10dbc6f7eccef0c1ace84822d618f7863d3bc26cab307fc0169bb43c23fbe"
  }
 },
 "nbformat": 4,
 "nbformat_minor": 2
}