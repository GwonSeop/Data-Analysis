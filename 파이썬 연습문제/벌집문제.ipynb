{
  "nbformat": 4,
  "nbformat_minor": 0,
  "metadata": {
    "colab": {
      "name": "벌집문제.ipynb",
      "provenance": [],
      "collapsed_sections": []
    },
    "kernelspec": {
      "name": "python3",
      "display_name": "Python 3"
    },
    "language_info": {
      "name": "python"
    }
  },
  "cells": [
    {
      "cell_type": "markdown",
      "metadata": {
        "id": "qBWrFMzNDXP8"
      },
      "source": [
        "\n",
        "위의 그림과 같이 육각형으로 이루어진 벌집이 있다. 그림에서 보는 바와 같이 중앙의 방 1부터 시작해서 이웃하는 방에 돌아가면서 1씩 증가하는 번호를 주소로 매길 수 있다. 숫자 N이 주어졌을 때, 벌집의 중앙 1에서 N번 방까지 최소 개수의 방을 지나서 갈 때 몇 개의 방을 지나가는지(시작과 끝을 포함하여)를 계산하는 프로그램을 작성하시오. 예를 들면, 13까지는 3개, 58까지는 5개를 지난다."
      ]
    },
    {
      "cell_type": "code",
      "metadata": {
        "colab": {
          "base_uri": "https://localhost:8080/"
        },
        "id": "WdUvkR5ICtUp",
        "outputId": "2fa52538-eb0e-4007-de2c-de0db65e6df1"
      },
      "source": [
        "n = int(input('1 <= n <= 1000000000 정수 값을 입력하시오. >'))\n",
        "if 1 <= n <= 1000000000 and type(n) == int:\n",
        "  while True:\n",
        "    p = 1\n",
        "    for i in range(1,200000000):\n",
        "      if n >= 6*i + 1:\n",
        "        n = n - 6*(i-1)\n",
        "        p += 1\n",
        "      else:\n",
        "        break\n",
        "    print(p)\n",
        "    break\n",
        "\n",
        "\n",
        "\n"
      ],
      "execution_count": 16,
      "outputs": [
        {
          "output_type": "stream",
          "text": [
            "1 <= n <= 1000000000 정수 값을 입력하시오. >10008\n",
            "59\n"
          ],
          "name": "stdout"
        }
      ]
    },
    {
      "cell_type": "code",
      "metadata": {
        "colab": {
          "base_uri": "https://localhost:8080/"
        },
        "id": "pZYmqqjRDKXt",
        "outputId": "5d9078d6-5109-4c27-9f1a-fa91e3c6b200"
      },
      "source": [
        "\n",
        "((59 * 60)/2)*6 "
      ],
      "execution_count": 21,
      "outputs": [
        {
          "output_type": "execute_result",
          "data": {
            "text/plain": [
              "10620.0"
            ]
          },
          "metadata": {
            "tags": []
          },
          "execution_count": 21
        }
      ]
    },
    {
      "cell_type": "code",
      "metadata": {
        "colab": {
          "base_uri": "https://localhost:8080/"
        },
        "id": "2PT8oEzkHEjz",
        "outputId": "2ee7c64e-67e4-4983-ac28-dcfba7c5fe45"
      },
      "source": [
        "(60*61/2)*6"
      ],
      "execution_count": 22,
      "outputs": [
        {
          "output_type": "execute_result",
          "data": {
            "text/plain": [
              "10980.0"
            ]
          },
          "metadata": {
            "tags": []
          },
          "execution_count": 22
        }
      ]
    },
    {
      "cell_type": "code",
      "metadata": {
        "colab": {
          "base_uri": "https://localhost:8080/"
        },
        "id": "xMvzYaDyHPWQ",
        "outputId": "9a758e32-6ffb-4891-9a43-ef320a8f7f5c"
      },
      "source": [
        "58*59/2*6"
      ],
      "execution_count": 23,
      "outputs": [
        {
          "output_type": "execute_result",
          "data": {
            "text/plain": [
              "10266.0"
            ]
          },
          "metadata": {
            "tags": []
          },
          "execution_count": 23
        }
      ]
    },
    {
      "cell_type": "code",
      "metadata": {
        "id": "691jK__CHUYI"
      },
      "source": [
        ""
      ],
      "execution_count": null,
      "outputs": []
    }
  ]
}