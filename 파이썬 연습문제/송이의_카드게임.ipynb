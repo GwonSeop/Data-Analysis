{
 "cells": [
  {
   "cell_type": "markdown",
   "source": [
    "혜민이는 오랜만에 친구들과 카드 게임을 하고 싶어졌다. 일반 카드 게임을 많이 해서 지겨웠던 혜민이는 새로운 카드 게임을 생각해냈다.\r\n",
    "\r\n",
    "혜민이를 포함하여 명이 둥글게 앉아있고 각각 개의 카드를 가지고 시작한다. 이 게임을 고안해낸 혜민이부터 반시계방향으로 명에게 순서대로 부터 까지 번호가 주어진다. 카드에는 이상 이하인 정수가 적혀있다.\r\n",
    "우선 자신이 가진  개의 카드를 자기 앞의 바닥에 일렬로 내려놓는다. 이렇게 하면 총  개의 카드가 둥글게 배치된 모양이 된다. 바닥에 내려놓은 카드의 순서는 바꿀 수 없다.\r\n",
    "게임은 번 사람의 제일 왼쪽에 있는 카드부터 선택하면서 시작한다. 선택된 카드는 다음과 같은 과정을 거치게 된다.\r\n",
    "선택된 카드에 적힌 수 를 확인한 후 카드를 제거한다.\r\n",
    "바닥에 남아있는 카드들 중, 제거된 카드의 오른쪽 번째에 위치한 카드를 다시 선택한다.\r\n",
    "이렇게 카드를 선택해 나가다가 마지막 한 장이 바닥에 남으면 그 카드의 주인이 승리한다.\r\n",
    "예를 들어, 3명의 사람이 각각 2개의 카드를 가지고 있을 때 1번 사람이 , , 2번 사람이 , , 3번 사람이 ,  이 적힌 카드를 차례대로 바닥에 내려놓은 상태를 생각해보자. 카드가 선택되는 순서는 아래와 같다."
   ],
   "metadata": {}
  },
  {
   "cell_type": "code",
   "execution_count": 147,
   "source": [
    "n, k = map(int,input('사람수와 카드수를 입력해주세요  >').split())\r\n",
    "cards = []\r\n",
    "org_cards = []\r\n",
    "numb = []\r\n",
    "m = 0\r\n",
    "for _ in range(n):\r\n",
    "    x = input('숫자를 입력 > ').split()\r\n",
    "    m += 1\r\n",
    "    cards.extend(x)\r\n",
    "    org_cards.extend(x)\r\n",
    "    for _ in range(k):\r\n",
    "        numb.append(m)\r\n",
    "x = 0\r\n",
    "x2 = 0\r\n",
    "while len(cards) != 1:\r\n",
    "    x2 = int(cards[x])\r\n",
    "    del cards[x]\r\n",
    "    x = ((x + x2) % len(cards)) -1 \r\n",
    "numb[org_cards.index(cards[0])]"
   ],
   "outputs": [
    {
     "output_type": "execute_result",
     "data": {
      "text/plain": [
       "2"
      ]
     },
     "metadata": {},
     "execution_count": 147
    }
   ],
   "metadata": {}
  },
  {
   "cell_type": "code",
   "execution_count": 148,
   "source": [
    "x = 0\r\n",
    "x2 = 0\r\n",
    "while len(cards) != 1:\r\n",
    "    x2 = int(cards[x])\r\n",
    "    del cards[x]\r\n",
    "    x = ((x + x2) % len(cards)) -1 \r\n",
    "numb[org_cards.index(cards[0])]"
   ],
   "outputs": [
    {
     "output_type": "execute_result",
     "data": {
      "text/plain": [
       "2"
      ]
     },
     "metadata": {},
     "execution_count": 148
    }
   ],
   "metadata": {}
  },
  {
   "cell_type": "code",
   "execution_count": 149,
   "source": [
    "numb[org_cards.index(cards[0])]\r\n"
   ],
   "outputs": [
    {
     "output_type": "execute_result",
     "data": {
      "text/plain": [
       "2"
      ]
     },
     "metadata": {},
     "execution_count": 149
    }
   ],
   "metadata": {}
  },
  {
   "cell_type": "code",
   "execution_count": 150,
   "source": [
    "cards[0]"
   ],
   "outputs": [
    {
     "output_type": "execute_result",
     "data": {
      "text/plain": [
       "'6'"
      ]
     },
     "metadata": {},
     "execution_count": 150
    }
   ],
   "metadata": {}
  },
  {
   "cell_type": "code",
   "execution_count": null,
   "source": [],
   "outputs": [],
   "metadata": {}
  }
 ],
 "metadata": {
  "orig_nbformat": 4,
  "language_info": {
   "name": "python",
   "version": "3.8.8",
   "mimetype": "text/x-python",
   "codemirror_mode": {
    "name": "ipython",
    "version": 3
   },
   "pygments_lexer": "ipython3",
   "nbconvert_exporter": "python",
   "file_extension": ".py"
  },
  "kernelspec": {
   "name": "python3",
   "display_name": "Python 3.8.8 64-bit ('base': conda)"
  },
  "interpreter": {
   "hash": "95c10dbc6f7eccef0c1ace84822d618f7863d3bc26cab307fc0169bb43c23fbe"
  }
 },
 "nbformat": 4,
 "nbformat_minor": 2
}